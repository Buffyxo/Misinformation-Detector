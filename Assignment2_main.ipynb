{
  "cells": [
    {
      "cell_type": "markdown",
      "metadata": {
        "id": "4sKEV-sUostG"
      },
      "source": [
        "\n",
        "# COS30049 - Assignment 2\n",
        "### Session 26 Group 2\n",
        "### Swinburne Univeristy of Technology"
      ]
    },
    {
      "cell_type": "markdown",
      "metadata": {},
      "source": [
        "# 1.0 Data Collection"
      ]
    },
    {
      "cell_type": "markdown",
      "metadata": {},
      "source": [
        "## 1.1 Verify the DataSet Can Be Read\n",
        "Checks to verify:\n",
        "- File exists\n",
        "- Columns pesent\n",
        "- No missing values"
      ]
    },
    {
      "cell_type": "code",
      "execution_count": 2,
      "metadata": {},
      "outputs": [],
      "source": [
        "import pandas as pd\n",
        "import os"
      ]
    },
    {
      "cell_type": "code",
      "execution_count": 3,
      "metadata": {},
      "outputs": [
        {
          "name": "stdout",
          "output_type": "stream",
          "text": [
            "Dataset loaded successfully!\n",
            "Columns: ['id', 'tweet', 'label']\n",
            "   id                                              tweet label\n",
            "0   1  The CDC currently reports 99031 deaths. In gen...  real\n",
            "1   2  States reported 1121 deaths a small rise from ...  real\n",
            "2   3  Politically Correct Woman (Almost) Uses Pandem...  fake\n",
            "3   4  #IndiaFightsCorona: We have 1524 #COVID testin...  real\n",
            "4   5  Populous states can generate large case counts...  real\n"
          ]
        }
      ],
      "source": [
        "file_path = \"Constraint_English_Train.xlsx\"\n",
        "\n",
        "if os.path.exists(file_path):\n",
        "    misinfo_data = pd.read_excel(file_path)\n",
        "    print(\"Dataset loaded successfully!\")\n",
        "    print(\"Columns:\", misinfo_data.columns.tolist())\n",
        "    print(misinfo_data.head())\n",
        "else:\n",
        "    print(\"File not found:\", file_path)"
      ]
    },
    {
      "cell_type": "markdown",
      "metadata": {},
      "source": [
        "## 1.2 Test Retrieval of Data Matching \"CDC\""
      ]
    },
    {
      "cell_type": "code",
      "execution_count": 7,
      "metadata": {},
      "outputs": [
        {
          "name": "stdout",
          "output_type": "stream",
          "text": [
            "Rows containing 'CDC':\n",
            "        id                                              tweet label\n",
            "0        1  The CDC currently reports 99031 deaths. In gen...  real\n",
            "6        7  If you tested positive for #COVID19 and have n...  real\n",
            "27      28  Just Appendix B gathering all the state orders...  real\n",
            "33      34  CDC Recommends Mothers Stop Breastfeeding To B...  fake\n",
            "138    139  Youth sports organizations: As you resume acti...  real\n",
            "...    ...                                                ...   ...\n",
            "6338  6339  ???The CDC can detain anyone with a fever ??\" ...  fake\n",
            "6345  6346  1645 deaths were reported today bringing the t...  real\n",
            "6377  6378  Acc to @CDCgov &amp; @WHO there is currently n...  real\n",
            "6391  6392  The CDC ???adjusted the US Covid deaths from 1...  fake\n",
            "6405  6406  The cloth face coverings recommended to slow s...  real\n",
            "\n",
            "[281 rows x 3 columns]\n"
          ]
        },
        {
          "name": "stderr",
          "output_type": "stream",
          "text": [
            "C:\\Users\\wongh\\AppData\\Local\\Temp\\ipykernel_21628\\3022997758.py:17: FutureWarning: DataFrame.applymap has been deprecated. Use DataFrame.map instead.\n",
            "  matches = misinfo_data.applymap(lambda x: bool(pattern.search(str(x))))\n"
          ]
        }
      ],
      "source": [
        "import pandas as pd\n",
        "import re\n",
        "\n",
        "file_path = \"Constraint_English_Train.xlsx\"\n",
        "misinfo_data = pd.read_excel(file_path)\n",
        "\n",
        "# Compile the regex pattern\n",
        "pattern = re.compile(r'CDC', re.IGNORECASE)  # ignore case if needed\n",
        "\n",
        "# Example: check in a specific column, e.g., 'text'\n",
        "if 'text' in misinfo_data.columns:\n",
        "    matches = misinfo_data['text'].apply(lambda x: bool(pattern.search(str(x))))\n",
        "    print(\"Rows containing 'CDC':\")\n",
        "    print(misinfo_data[matches])\n",
        "else:\n",
        "    # If you want to search all columns\n",
        "    matches = misinfo_data.applymap(lambda x: bool(pattern.search(str(x))))\n",
        "    print(\"Rows containing 'CDC':\")\n",
        "    print(misinfo_data[matches.any(axis=1)])"
      ]
    },
    {
      "cell_type": "markdown",
      "metadata": {},
      "source": []
    },
    {
      "cell_type": "markdown",
      "metadata": {},
      "source": [
        "## 1.3 Combine data sets\n",
        "- Datasets have been cleaned in Google Refine"
      ]
    },
    {
      "cell_type": "code",
      "execution_count": 8,
      "metadata": {},
      "outputs": [
        {
          "name": "stderr",
          "output_type": "stream",
          "text": [
            "c:\\Users\\wongh\\anaconda3\\envs\\ctip\\Lib\\site-packages\\openpyxl\\styles\\stylesheet.py:237: UserWarning: Workbook contains no default style, apply openpyxl's default\n",
            "  warn(\"Workbook contains no default style, apply openpyxl's default\")\n",
            "c:\\Users\\wongh\\anaconda3\\envs\\ctip\\Lib\\site-packages\\openpyxl\\styles\\stylesheet.py:237: UserWarning: Workbook contains no default style, apply openpyxl's default\n",
            "  warn(\"Workbook contains no default style, apply openpyxl's default\")\n",
            "c:\\Users\\wongh\\anaconda3\\envs\\ctip\\Lib\\site-packages\\openpyxl\\styles\\stylesheet.py:237: UserWarning: Workbook contains no default style, apply openpyxl's default\n",
            "  warn(\"Workbook contains no default style, apply openpyxl's default\")\n"
          ]
        }
      ],
      "source": [
        "train_df = pd.read_excel(\"Constraint_English_Train_GR.xlsx\")\n",
        "val_df = pd.read_excel(\"Constraint_English_Val_GR.xlsx\")\n",
        "test_df = pd.read_excel(\"Constraint_English_Test_GR.xlsx\")"
      ]
    },
    {
      "cell_type": "markdown",
      "metadata": {},
      "source": [
        "# 2.0 Data preprocessing"
      ]
    },
    {
      "cell_type": "markdown",
      "metadata": {},
      "source": [
        "We are using GR-tagged xlsx files instead of the original provided datasets. GR = Google Refine."
      ]
    },
    {
      "cell_type": "markdown",
      "metadata": {},
      "source": [
        "## 2.1 Emoji and Symbols Refining"
      ]
    },
    {
      "cell_type": "markdown",
      "metadata": {},
      "source": [
        "### Test Emoji and Symbols Detection\n",
        "- Keep symbols used in natural language"
      ]
    },
    {
      "cell_type": "code",
      "execution_count": 9,
      "metadata": {},
      "outputs": [
        {
          "name": "stdout",
          "output_type": "stream",
          "text": [
            "                 text  has_emoji\n",
            "0         Hello world      False\n",
            "1          Hi there 😀       True\n",
            "2  @user_name is cool      False\n",
            "3     No emojis here!      False\n",
            "4            symbol �       True\n"
          ]
        }
      ],
      "source": [
        "import pandas as pd\n",
        "import re\n",
        "\n",
        "df = pd.DataFrame({\n",
        "    'text': [\"Hello world\", \"Hi there 😀\", \"@user_name is cool\", \"No emojis here!\", \"symbol �\"]\n",
        "})\n",
        "\n",
        "pattern = re.compile(r'[^\\w\\s@.,!?#]', flags=re.UNICODE)\n",
        "df['has_emoji'] = df['text'].apply(lambda x: bool(pattern.search(str(x))))\n",
        "\n",
        "print(df)"
      ]
    },
    {
      "cell_type": "markdown",
      "metadata": {},
      "source": [
        "### Test emoji refining"
      ]
    },
    {
      "cell_type": "code",
      "execution_count": 10,
      "metadata": {},
      "outputs": [
        {
          "name": "stdout",
          "output_type": "stream",
          "text": [
            "                                                  tweet  \\\n",
            "0     The CDC currently reports 99031 deaths. In gen...   \n",
            "1     States reported 1121 deaths a small rise from ...   \n",
            "2     Politically Correct Woman (Almost) Uses Pandem...   \n",
            "3     #IndiaFightsCorona: We have 1524 #COVID testin...   \n",
            "4     Populous states can generate large case counts...   \n",
            "...                                                 ...   \n",
            "6415  A tiger tested positive for COVID-19 please st...   \n",
            "6416  Autopsies prove that COVID-19 is a blood clot,...   \n",
            "6417  _A post claims a COVID-19 vaccine has already ...   \n",
            "6418  Aamir Khan Donate 250 Cr. In PM Relief Cares Fund   \n",
            "6419  It has been 93 days since the last case of COV...   \n",
            "\n",
            "                                             clean_text  \n",
            "0     The CDC currently reports 99031 deaths. In gen...  \n",
            "1     States reported 1121 deaths a small rise from ...  \n",
            "2     Politically Correct Woman Almost Uses Pandemic...  \n",
            "3     #IndiaFightsCorona We have 1524 #COVID testing...  \n",
            "4     Populous states can generate large case counts...  \n",
            "...                                                 ...  \n",
            "6415  A tiger tested positive for COVID19 please sta...  \n",
            "6416  Autopsies prove that COVID19 is a blood clot, ...  \n",
            "6417  A post claims a COVID19 vaccine has already be...  \n",
            "6418  Aamir Khan Donate 250 Cr. In PM Relief Cares Fund  \n",
            "6419  It has been 93 days since the last case of COV...  \n",
            "\n",
            "[6420 rows x 2 columns]\n"
          ]
        }
      ],
      "source": [
        "import pandas as pd\n",
        "import re\n",
        "\n",
        "df = pd.DataFrame(train_df)\n",
        "\n",
        "# Step 1: Clean text safely\n",
        "def clean_text(text):\n",
        "    text = str(text)\n",
        "    \n",
        "    # Step 1a: Protect @usernames and #hashtags\n",
        "    placeholders = {}\n",
        "    for match in re.findall(r'(@\\w+|#\\w+)', text):\n",
        "        ph = f\"PLACEHOLDER{len(placeholders)}\"\n",
        "        placeholders[ph] = match\n",
        "        text = text.replace(match, ph)\n",
        "    \n",
        "    # Step 1b: Replace all underscores with spaces\n",
        "    text = text.replace('_', ' ')\n",
        "    \n",
        "    # Step 1c: Remove emojis / unusual symbols\n",
        "    # Keep letters, numbers, whitespace, @, #, ., ,, !, ?\n",
        "    text = re.sub(r'[^\\w\\s@.,!?#]', '', text, flags=re.UNICODE)\n",
        "    \n",
        "    # Step 1d: Remove leading punctuation (like . , ! ?) at start of text\n",
        "    text = re.sub(r'^[.,!?_\\s]+', '', text)\n",
        "    \n",
        "    # Step 1e: Restore usernames and hashtags\n",
        "    for ph, original in placeholders.items():\n",
        "        text = text.replace(ph, original)\n",
        "    \n",
        "    return text\n",
        "\n",
        "# Apply cleaning function to the 'tweet' column\n",
        "df['clean_text'] = df['tweet'].apply(clean_text)\n",
        "\n",
        "# Optional: preview result\n",
        "print(df[['tweet', 'clean_text']])\n",
        "\n",
        "# Save cleaned file\n",
        "df.to_excel(\"Constraint_English_Train_Cleaned.xlsx\", index=False)"
      ]
    },
    {
      "cell_type": "markdown",
      "metadata": {},
      "source": [
        "### Clean emojis on all 3 datasets"
      ]
    },
    {
      "cell_type": "markdown",
      "metadata": {},
      "source": [
        "- Normalized usernames and hashtags instead of keeping them."
      ]
    },
    {
      "cell_type": "code",
      "execution_count": 11,
      "metadata": {},
      "outputs": [
        {
          "name": "stderr",
          "output_type": "stream",
          "text": [
            "c:\\Users\\wongh\\anaconda3\\envs\\ctip\\Lib\\site-packages\\openpyxl\\styles\\stylesheet.py:237: UserWarning: Workbook contains no default style, apply openpyxl's default\n",
            "  warn(\"Workbook contains no default style, apply openpyxl's default\")\n"
          ]
        },
        {
          "name": "stdout",
          "output_type": "stream",
          "text": [
            "Cleaned dataset saved to Constraint_English_Train_Cleaned.xlsx\n"
          ]
        },
        {
          "name": "stderr",
          "output_type": "stream",
          "text": [
            "c:\\Users\\wongh\\anaconda3\\envs\\ctip\\Lib\\site-packages\\openpyxl\\styles\\stylesheet.py:237: UserWarning: Workbook contains no default style, apply openpyxl's default\n",
            "  warn(\"Workbook contains no default style, apply openpyxl's default\")\n"
          ]
        },
        {
          "name": "stdout",
          "output_type": "stream",
          "text": [
            "Cleaned dataset saved to Constraint_English_Val_Cleaned.xlsx\n",
            "Cleaned dataset saved to Constraint_English_Test_Cleaned.xlsx\n"
          ]
        },
        {
          "name": "stderr",
          "output_type": "stream",
          "text": [
            "c:\\Users\\wongh\\anaconda3\\envs\\ctip\\Lib\\site-packages\\openpyxl\\styles\\stylesheet.py:237: UserWarning: Workbook contains no default style, apply openpyxl's default\n",
            "  warn(\"Workbook contains no default style, apply openpyxl's default\")\n"
          ]
        }
      ],
      "source": [
        "import pandas as pd\n",
        "import re\n",
        "\n",
        "# Step 1: Define cleaning function\n",
        "def clean_text(text):\n",
        "    text = str(text)\n",
        "    \n",
        "    # Step 1a: Normalize links, usernames and hashtags \n",
        "    # Normalize @usernames to <USER>\n",
        "    text = re.sub(r'@\\w+', '<USER>', text)\n",
        "\n",
        "    # Normalize #hashtags to <HASHTAG:topic>\n",
        "    def replace_hashtag(match):\n",
        "        hashtag = match.group()[1:]  # remove #\n",
        "        return f\"<HASHTAG:{hashtag}>\"\n",
        "    \n",
        "    text = re.sub(r'#\\w+', replace_hashtag, text)\n",
        "    \n",
        "    # Normalize links\n",
        "    text = re.sub(r'https?://\\S+|www\\.\\S+', '<LINK>', text)\n",
        "    \n",
        "    # Step 1b: Replace all underscores \n",
        "    text = text.replace('_', '')\n",
        "    \n",
        "    # Step 1c: Remove emojis / unusual symbols\n",
        "    # Keep letters, numbers, whitespace, @, #, ., ,, !, ?\n",
        "    text = re.sub(r'[^\\w\\s@.,!?#<>:;]', '', text, flags=re.UNICODE)\n",
        "    \n",
        "    # Step 1d: Remove leading punctuation (like . , ! ?) at start of text\n",
        "    text = re.sub(r'^[.,!?_\\s]+', '', text)\n",
        "    \n",
        "    return text\n",
        "\n",
        "\n",
        "# Step 2: Define helper function for cleaning datasets\n",
        "def clean_dataset(input_path, output_path, text_column='tweet'):\n",
        "    \"\"\"\n",
        "    Reads a dataset, cleans the specified text column, and saves cleaned dataset.\n",
        "    \"\"\"\n",
        "    df = pd.read_excel(input_path)\n",
        "\n",
        "    if text_column not in df.columns:\n",
        "        raise ValueError(f\"Column '{text_column}' not found in dataset.\")\n",
        "\n",
        "    df['clean_text'] = df[text_column].apply(clean_text)\n",
        "\n",
        "    df.to_excel(output_path, index=False)\n",
        "    print(f\"Cleaned dataset saved to {output_path}\")\n",
        "\n",
        "\n",
        "# Step 3: Clean train, validation, and test datasets\n",
        "datasets = [\n",
        "    (\"Constraint_English_Train_GR.xlsx\", \"Constraint_English_Train_Cleaned.xlsx\"),\n",
        "    (\"Constraint_English_Val_GR.xlsx\", \"Constraint_English_Val_Cleaned.xlsx\"),\n",
        "    (\"Constraint_English_Test_GR.xlsx\", \"Constraint_English_Test_Cleaned.xlsx\")\n",
        "]\n",
        "\n",
        "for input_path, output_path in datasets:\n",
        "    clean_dataset(input_path, output_path)"
      ]
    },
    {
      "cell_type": "markdown",
      "metadata": {},
      "source": [
        "## 2.2 Remove Stopwords\n",
        "- use nltk library"
      ]
    },
    {
      "cell_type": "code",
      "execution_count": 13,
      "metadata": {},
      "outputs": [
        {
          "name": "stderr",
          "output_type": "stream",
          "text": [
            "[nltk_data] Downloading package stopwords to\n",
            "[nltk_data]     C:\\Users\\wongh\\AppData\\Roaming\\nltk_data...\n",
            "[nltk_data]   Unzipping corpora\\stopwords.zip.\n"
          ]
        }
      ],
      "source": [
        "import nltk\n",
        "nltk.download('stopwords')\n",
        "from nltk.corpus import stopwords\n",
        "\n",
        "stop_words = set(stopwords.words('english'))"
      ]
    },
    {
      "cell_type": "markdown",
      "metadata": {},
      "source": [
        "## 1.6 Lemmatization\n",
        "- Lemmatization cleans word forms that has \"-ing\" so that words are in keyword forms.\n",
        "- uses Spacy or NLTK\n",
        "- choice: Spacy (more accurate and faster, but larger)\n",
        "- it also tokenize words"
      ]
    },
    {
      "cell_type": "code",
      "execution_count": 14,
      "metadata": {},
      "outputs": [],
      "source": [
        "import spacy\n",
        "nlp = spacy.load(\"en_core_web_sm\")\n",
        "\n",
        "def lemmatize_text(text):\n",
        "    doc = nlp(text)\n",
        "    return \" \".join([token.lemma_ for token in doc if token.lemma_ != \"-PRON-\"])"
      ]
    },
    {
      "cell_type": "markdown",
      "metadata": {},
      "source": [
        "## 2.3 Spelling Correction\n",
        "- Tools available: TextBlob, SymSpell, Hunspell or pyspellchecker\n",
        "- TextBlob - 36.4s (good for small datasets)\n",
        "- Spellchecker - 36.6s"
      ]
    },
    {
      "cell_type": "code",
      "execution_count": 15,
      "metadata": {},
      "outputs": [],
      "source": [
        "from textblob import TextBlob\n",
        "\n",
        "def correct_spelling(text):\n",
        "    return str(TextBlob(text).correct())"
      ]
    },
    {
      "cell_type": "code",
      "execution_count": 16,
      "metadata": {},
      "outputs": [
        {
          "name": "stderr",
          "output_type": "stream",
          "text": [
            "[nltk_data] Downloading package punkt to /Users/zara/nltk_data...\n"
          ]
        },
        {
          "ename": "PermissionError",
          "evalue": "[WinError 5] Access is denied: '/Users/zara'",
          "output_type": "error",
          "traceback": [
            "\u001b[31m---------------------------------------------------------------------------\u001b[39m",
            "\u001b[31mPermissionError\u001b[39m                           Traceback (most recent call last)",
            "\u001b[36mCell\u001b[39m\u001b[36m \u001b[39m\u001b[32mIn[16]\u001b[39m\u001b[32m, line 2\u001b[39m\n\u001b[32m      1\u001b[39m \u001b[38;5;28;01mimport\u001b[39;00m\u001b[38;5;250m \u001b[39m\u001b[34;01mnltk\u001b[39;00m\n\u001b[32m----> \u001b[39m\u001b[32m2\u001b[39m \u001b[43mnltk\u001b[49m\u001b[43m.\u001b[49m\u001b[43mdownload\u001b[49m\u001b[43m(\u001b[49m\u001b[33;43m'\u001b[39;49m\u001b[33;43mpunkt\u001b[39;49m\u001b[33;43m'\u001b[39;49m\u001b[43m,\u001b[49m\u001b[43m \u001b[49m\u001b[43mdownload_dir\u001b[49m\u001b[43m=\u001b[49m\u001b[33;43m\"\u001b[39;49m\u001b[33;43m/Users/zara/nltk_data\u001b[39;49m\u001b[33;43m\"\u001b[39;49m\u001b[43m)\u001b[49m\n\u001b[32m      3\u001b[39m nltk.data.path.append(\u001b[33m\"\u001b[39m\u001b[33m/Users/zara/miniconda3/envs/ctip\u001b[39m\u001b[33m\"\u001b[39m)\n",
            "\u001b[36mFile \u001b[39m\u001b[32mc:\\Users\\wongh\\anaconda3\\envs\\ctip\\Lib\\site-packages\\nltk\\downloader.py:762\u001b[39m, in \u001b[36mDownloader.download\u001b[39m\u001b[34m(self, info_or_id, download_dir, quiet, force, prefix, halt_on_error, raise_on_error, print_error_to)\u001b[39m\n\u001b[32m    753\u001b[39m \u001b[38;5;28;01mdef\u001b[39;00m\u001b[38;5;250m \u001b[39m\u001b[34mshow\u001b[39m(s, prefix2=\u001b[33m\"\u001b[39m\u001b[33m\"\u001b[39m):\n\u001b[32m    754\u001b[39m     print_to(\n\u001b[32m    755\u001b[39m         textwrap.fill(\n\u001b[32m    756\u001b[39m             s,\n\u001b[32m   (...)\u001b[39m\u001b[32m    759\u001b[39m         )\n\u001b[32m    760\u001b[39m     )\n\u001b[32m--> \u001b[39m\u001b[32m762\u001b[39m \u001b[43m\u001b[49m\u001b[38;5;28;43;01mfor\u001b[39;49;00m\u001b[43m \u001b[49m\u001b[43mmsg\u001b[49m\u001b[43m \u001b[49m\u001b[38;5;129;43;01min\u001b[39;49;00m\u001b[43m \u001b[49m\u001b[38;5;28;43mself\u001b[39;49m\u001b[43m.\u001b[49m\u001b[43mincr_download\u001b[49m\u001b[43m(\u001b[49m\u001b[43minfo_or_id\u001b[49m\u001b[43m,\u001b[49m\u001b[43m \u001b[49m\u001b[43mdownload_dir\u001b[49m\u001b[43m,\u001b[49m\u001b[43m \u001b[49m\u001b[43mforce\u001b[49m\u001b[43m)\u001b[49m\u001b[43m:\u001b[49m\n\u001b[32m    763\u001b[39m \u001b[43m    \u001b[49m\u001b[38;5;66;43;03m# Error messages\u001b[39;49;00m\n\u001b[32m    764\u001b[39m \u001b[43m    \u001b[49m\u001b[38;5;28;43;01mif\u001b[39;49;00m\u001b[43m \u001b[49m\u001b[38;5;28;43misinstance\u001b[39;49m\u001b[43m(\u001b[49m\u001b[43mmsg\u001b[49m\u001b[43m,\u001b[49m\u001b[43m \u001b[49m\u001b[43mErrorMessage\u001b[49m\u001b[43m)\u001b[49m\u001b[43m:\u001b[49m\n\u001b[32m    765\u001b[39m \u001b[43m        \u001b[49m\u001b[43mshow\u001b[49m\u001b[43m(\u001b[49m\u001b[43mmsg\u001b[49m\u001b[43m.\u001b[49m\u001b[43mmessage\u001b[49m\u001b[43m)\u001b[49m\n",
            "\u001b[36mFile \u001b[39m\u001b[32mc:\\Users\\wongh\\anaconda3\\envs\\ctip\\Lib\\site-packages\\nltk\\downloader.py:630\u001b[39m, in \u001b[36mDownloader.incr_download\u001b[39m\u001b[34m(self, info_or_id, download_dir, force)\u001b[39m\n\u001b[32m    626\u001b[39m     \u001b[38;5;28;01myield\u001b[39;00m FinishCollectionMessage(info)\n\u001b[32m    628\u001b[39m \u001b[38;5;66;03m# Handle Packages (delegate to a helper function).\u001b[39;00m\n\u001b[32m    629\u001b[39m \u001b[38;5;28;01melse\u001b[39;00m:\n\u001b[32m--> \u001b[39m\u001b[32m630\u001b[39m     \u001b[38;5;28;01myield from\u001b[39;00m \u001b[38;5;28mself\u001b[39m._download_package(info, download_dir, force)\n",
            "\u001b[36mFile \u001b[39m\u001b[32mc:\\Users\\wongh\\anaconda3\\envs\\ctip\\Lib\\site-packages\\nltk\\downloader.py:686\u001b[39m, in \u001b[36mDownloader._download_package\u001b[39m\u001b[34m(self, info, download_dir, force)\u001b[39m\n\u001b[32m    683\u001b[39m     os.remove(filepath)\n\u001b[32m    685\u001b[39m \u001b[38;5;66;03m# Ensure the download_dir exists\u001b[39;00m\n\u001b[32m--> \u001b[39m\u001b[32m686\u001b[39m \u001b[43mos\u001b[49m\u001b[43m.\u001b[49m\u001b[43mmakedirs\u001b[49m\u001b[43m(\u001b[49m\u001b[43mdownload_dir\u001b[49m\u001b[43m,\u001b[49m\u001b[43m \u001b[49m\u001b[43mexist_ok\u001b[49m\u001b[43m=\u001b[49m\u001b[38;5;28;43;01mTrue\u001b[39;49;00m\u001b[43m)\u001b[49m\n\u001b[32m    687\u001b[39m os.makedirs(os.path.join(download_dir, info.subdir), exist_ok=\u001b[38;5;28;01mTrue\u001b[39;00m)\n\u001b[32m    689\u001b[39m \u001b[38;5;66;03m# Download the file.  This will raise an IOError if the url\u001b[39;00m\n\u001b[32m    690\u001b[39m \u001b[38;5;66;03m# is not found.\u001b[39;00m\n",
            "\u001b[36mFile \u001b[39m\u001b[32m<frozen os>:218\u001b[39m, in \u001b[36mmakedirs\u001b[39m\u001b[34m(name, mode, exist_ok)\u001b[39m\n",
            "\u001b[36mFile \u001b[39m\u001b[32m<frozen os>:228\u001b[39m, in \u001b[36mmakedirs\u001b[39m\u001b[34m(name, mode, exist_ok)\u001b[39m\n",
            "\u001b[31mPermissionError\u001b[39m: [WinError 5] Access is denied: '/Users/zara'"
          ]
        }
      ],
      "source": [
        "import nltk\n",
        "nltk.download('punkt', download_dir=\"/Users/zara/nltk_data\")\n",
        "nltk.data.path.append(\"/Users/zara/miniconda3/envs/ctip\")"
      ]
    },
    {
      "cell_type": "markdown",
      "metadata": {},
      "source": [
        "- conda info --envs\n",
        "- replace /Users..... to your own path"
      ]
    },
    {
      "cell_type": "markdown",
      "metadata": {},
      "source": [
        "## 2.4 Improved final code\n",
        "- added hashtag, link and user mention normalization, word lemetization (+ removed spaces due to lemetization), and spell checking.\n",
        "\n",
        "Tools:\n",
        "1. pandas - reading and writing excel datasets (pd.red_excel, df.to_excel)\n",
        "2. re (regex) - Text normalization (usernames, hashtags, links) and symbol removal.\n",
        "3. nltk - stopword removal \n",
        "4. spacy - lemmatization \n",
        "5. textblob - spelling correction\n",
        "6. lambda + regex - placeholder integrity\n",
        "\n",
        "\n",
        "Preprocessing steps taken:\n",
        "- username to <USER>\n",
        "- hashatags to <HASHTAG:topic>\n",
        "- links to <LINK>\n",
        "- removed underscores\n",
        "- removed emojis/weird symbols \n",
        "- removed leading punctuations\n",
        "- removed stopwords - split text intp tokens, filter stopwords and rejoin\n",
        "- lemmatization - convert words to their root form (avoid pronouns)\n",
        "- remove spaces in placeholders after lemmetization\n",
        "- spelling correction \n",
        "\n",
        "Dataset Processing\n",
        "- Reads each dataset (pd.read_excel)\n",
        "- Applies cleaning to a specified column (tweet)\n",
        "- Writes cleaned data to a new Excel file.\n",
        "- Processes multiple datasets in a loop.\n",
        "\n",
        "\n",
        "Observations: there are still some spaces in placeholders <> after lemmetization even when spaces are removed with regex."
      ]
    },
    {
      "cell_type": "code",
      "execution_count": 17,
      "metadata": {},
      "outputs": [
        {
          "name": "stderr",
          "output_type": "stream",
          "text": [
            "[nltk_data] Downloading package stopwords to\n",
            "[nltk_data]     C:\\Users\\wongh\\AppData\\Roaming\\nltk_data...\n",
            "[nltk_data]   Package stopwords is already up-to-date!\n",
            "c:\\Users\\wongh\\anaconda3\\envs\\ctip\\Lib\\site-packages\\openpyxl\\styles\\stylesheet.py:237: UserWarning: Workbook contains no default style, apply openpyxl's default\n",
            "  warn(\"Workbook contains no default style, apply openpyxl's default\")\n"
          ]
        },
        {
          "name": "stdout",
          "output_type": "stream",
          "text": [
            "Cleaned dataset saved to Constraint_English_Train_Cleaned.xlsx\n"
          ]
        },
        {
          "name": "stderr",
          "output_type": "stream",
          "text": [
            "c:\\Users\\wongh\\anaconda3\\envs\\ctip\\Lib\\site-packages\\openpyxl\\styles\\stylesheet.py:237: UserWarning: Workbook contains no default style, apply openpyxl's default\n",
            "  warn(\"Workbook contains no default style, apply openpyxl's default\")\n"
          ]
        },
        {
          "name": "stdout",
          "output_type": "stream",
          "text": [
            "Cleaned dataset saved to Constraint_English_Val_Cleaned.xlsx\n"
          ]
        },
        {
          "name": "stderr",
          "output_type": "stream",
          "text": [
            "c:\\Users\\wongh\\anaconda3\\envs\\ctip\\Lib\\site-packages\\openpyxl\\styles\\stylesheet.py:237: UserWarning: Workbook contains no default style, apply openpyxl's default\n",
            "  warn(\"Workbook contains no default style, apply openpyxl's default\")\n"
          ]
        },
        {
          "name": "stdout",
          "output_type": "stream",
          "text": [
            "Cleaned dataset saved to Constraint_English_Test_Cleaned.xlsx\n"
          ]
        }
      ],
      "source": [
        "import pandas as pd\n",
        "import re\n",
        "import nltk\n",
        "import spacy\n",
        "from textblob import TextBlob\n",
        "#from spellchecker import SpellChecker\n",
        "\n",
        "#spell = SpellChecker()\n",
        "\n",
        "# Function - Lemmatize\n",
        "nlp = spacy.load(\"en_core_web_sm\")\n",
        "\n",
        "def lemmatize_text(text):\n",
        "    doc = nlp(text)\n",
        "    return \" \".join([token.lemma_ for token in doc if token.lemma_ != \"-PRON-\"])\n",
        "\n",
        "# Function - Remove spaces from lemmaitization\n",
        "def remove_spaces_in_placeholders(text):\n",
        "    return re.sub(r'<\\s*(.*?)\\s*>', lambda m: f\"<{m.group(1).replace(' ', '')}>\", text)\n",
        "\n",
        "# Function - Spelling correction (TextBlob)\n",
        "def correct_spelling(text):\n",
        "    return str(TextBlob(text).correct())\n",
        "\n",
        "# Function - Spelling correction (spellchecker)\n",
        "# def correct_spelling(text):\n",
        "#     return \" \".join(spell.correction(word) or word for word in text.split())\n",
        "\n",
        "# Function - Hashtag normalization function\n",
        "def replace_hashtag(match):\n",
        "    hashtag = match.group()[1:].lower()\n",
        "    return f\"<HASHTAG:{hashtag}>\"\n",
        "\n",
        "# Download stopwords once\n",
        "nltk.download('stopwords')\n",
        "from nltk.corpus import stopwords\n",
        "stop_words = set(stopwords.words('english'))\n",
        "negations = {\"no\", \"not\", \"nor\", \"never\"}\n",
        "stop_words -= negations\n",
        "\n",
        "# Cleaning function\n",
        "def clean_text(text, do_lemmatize=True, do_spellcheck=False):\n",
        "    text = str(text)\n",
        "\n",
        "    # Normalize usernames, hashtags, and links\n",
        "    text = re.sub(r'@\\w+', '<USER>', text)\n",
        "    text = re.sub(r'#\\w+', replace_hashtag, text)\n",
        "    text = re.sub(r'https?://\\S+|www\\.\\S+', '<LINK>', text)\n",
        "\n",
        "    # Remove underscores\n",
        "    text = text.replace('_', '')\n",
        "\n",
        "    # Remove emojis/unusual symbols but keep punctuation\n",
        "    text = re.sub(r'[^\\w\\s@.,!?#<>:;]', '', text, flags=re.UNICODE)\n",
        "\n",
        "    # Remove leading punctuation\n",
        "    text = re.sub(r'^[.,!?_\\s]+', '', text)\n",
        "\n",
        "    # Remove stopwords\n",
        "    tokens = text.split()\n",
        "    tokens = [word for word in tokens if word.lower() not in stop_words]\n",
        "    text = \" \".join(tokens)\n",
        "\n",
        "    # Lemmatize and remove spaces \n",
        "    if do_lemmatize:\n",
        "        text = lemmatize_text(text)\n",
        "    text = remove_spaces_in_placeholders(text)\n",
        "\n",
        "    # Spellcheck\n",
        "    if do_spellcheck:\n",
        "        text = correct_spelling(text)\n",
        "\n",
        "    return text\n",
        "\n",
        "# Dataset cleaning helper\n",
        "def clean_dataset(input_path, output_path, text_column='tweet', do_lemmatize=True, do_spellcheck=False):\n",
        "    df = pd.read_excel(input_path)\n",
        "\n",
        "    if text_column not in df.columns:\n",
        "        raise ValueError(f\"Column '{text_column}' not found in dataset.\")\n",
        "\n",
        "    df['clean_text'] = df[text_column].apply(lambda x: clean_text(x, do_lemmatize, do_spellcheck))\n",
        "\n",
        "    df.to_excel(output_path, index=False)\n",
        "    print(f\"Cleaned dataset saved to {output_path}\")\n",
        "\n",
        "# Run cleaning for datasets\n",
        "datasets = [\n",
        "    (\"Constraint_English_Train_GR.xlsx\", \"Constraint_English_Train_Cleaned.xlsx\"),\n",
        "    (\"Constraint_English_Val_GR.xlsx\", \"Constraint_English_Val_Cleaned.xlsx\"),\n",
        "    (\"Constraint_English_Test_GR.xlsx\", \"Constraint_English_Test_Cleaned.xlsx\")\n",
        "]\n",
        "\n",
        "for input_path, output_path in datasets:\n",
        "    clean_dataset(input_path, output_path)"
      ]
    },
    {
      "cell_type": "markdown",
      "metadata": {},
      "source": [
        "# 3.0 Machine Model Selection\n",
        "- supervised ML (classifies real vs fake)\n",
        "- feature extraction: Uses TF-IDF vectorization, a method that scores words based on how important they are in the text. Used with:\n",
        "  - Unigrams + bigrams \n",
        "  - vocabulary size limited to 5000 most useful words/phrases\n",
        "  - Frequency thresholds:\n",
        "\t- \tIgnore words that appear in fewer than 5 documents - min_df=5 (rare words).\n",
        "\t- \tRemove words that appear in more than 90% of documents - max_df=0.9 (overly common words).\n",
        "- model selection: \n",
        "  - Logic regression as primary classifier for text data\n",
        "    - Uses max_iter=1000 (training rounds) so the model can stabilise properly\n",
        "  - KNN used for baseline comparison\n",
        "    - less effective on sparse data\n",
        "- Evaluation\n",
        "  - metrics report:\n",
        "    - accuracy (overall % correct)\n",
        "    - f1 score  (balances precision and recall)\n",
        "    - Classification report (precision, recall, F1 per class “real” and “fake”)\n",
        "    - Confusion matrix heatmap for error analysis.\n",
        "  - Confusion matrix shows counts of correct and incorrect predictions for samples in test dataset. \n",
        "\n",
        "## Why this selection?\n",
        "- TF-IDF + Logistic Regression is a well-established baseline for text classification and misinformation detection, balancing interpretability and performance.\n",
        "- N-grams capture short contextual dependencies that are crucial in misinformation (e.g., “not true”, “fake news”).\n",
        "- Feature limits & frequency cutoffs prevent overfitting on noise, slang, or rare hashtags.\n",
        "- The inclusion of KNN shows experimentation with alternative models, but Logistic Regression is the practical choice."
      ]
    },
    {
      "cell_type": "code",
      "execution_count": 20,
      "metadata": {},
      "outputs": [
        {
          "name": "stdout",
          "output_type": "stream",
          "text": [
            "Validation Results:\n",
            "              precision    recall  f1-score   support\n",
            "\n",
            "           0       0.93      0.92      0.92      1020\n",
            "           1       0.93      0.94      0.93      1120\n",
            "\n",
            "    accuracy                           0.93      2140\n",
            "   macro avg       0.93      0.93      0.93      2140\n",
            "weighted avg       0.93      0.93      0.93      2140\n",
            "\n",
            "Test Results:\n",
            "              precision    recall  f1-score   support\n",
            "\n",
            "           0       0.83      0.77      0.80        13\n",
            "           1       0.92      0.95      0.94        38\n",
            "\n",
            "    accuracy                           0.90        51\n",
            "   macro avg       0.88      0.86      0.87        51\n",
            "weighted avg       0.90      0.90      0.90        51\n",
            "\n",
            "KNN Validation Results:\n",
            "              precision    recall  f1-score   support\n",
            "\n",
            "           0       0.83      0.96      0.89      1020\n",
            "           1       0.95      0.82      0.88      1120\n",
            "\n",
            "    accuracy                           0.88      2140\n",
            "   macro avg       0.89      0.89      0.88      2140\n",
            "weighted avg       0.89      0.88      0.88      2140\n",
            "\n",
            "KNN Test Results:\n",
            "              precision    recall  f1-score   support\n",
            "\n",
            "           0       0.58      0.85      0.69        13\n",
            "           1       0.94      0.79      0.86        38\n",
            "\n",
            "    accuracy                           0.80        51\n",
            "   macro avg       0.76      0.82      0.77        51\n",
            "weighted avg       0.85      0.80      0.81        51\n",
            "\n",
            "y_test length: 51\n",
            "X_test_vec shape: (51, 4668)\n",
            "Predictions length: 51\n",
            "First few y_test values: 0    0\n",
            "1    1\n",
            "2    1\n",
            "3    1\n",
            "4    1\n",
            "Name: label, dtype: int64\n",
            "First few predictions: [0 1 1 1 1 0 1 1 1 1]\n",
            "Logistic Regression Test Accuracy: 0.9019607843137255\n",
            "Logistic Regression Test F1 Score: 0.935064935064935\n"
          ]
        },
        {
          "data": {
            "image/png": "[encoded data removed]",
            "text/plain": [
              "<Figure size 640x480 with 2 Axes>"
            ]
          },
          "metadata": {},
          "output_type": "display_data"
        }
      ],
      "source": [
        "import pandas as pd\n",
        "from sklearn.feature_extraction.text import TfidfVectorizer, ENGLISH_STOP_WORDS\n",
        "from sklearn.linear_model import LogisticRegression\n",
        "from sklearn.neighbors import KNeighborsClassifier\n",
        "from sklearn.metrics import classification_report, accuracy_score, f1_score, confusion_matrix\n",
        "import seaborn as sns\n",
        "import matplotlib.pyplot as plt\n",
        "import re\n",
        "\n",
        "# Load prcoessed datasets\n",
        "train_df = pd.read_excel(\"Constraint_English_Train_Cleaned.xlsx\")\n",
        "val_df = pd.read_excel(\"Constraint_English_Val_Cleaned.xlsx\")\n",
        "test_df = pd.read_excel(\"Constraint_English_Test_Cleaned.xlsx\")\n",
        "\n",
        "# Labels\n",
        "y_train = train_df['label'].map({'real': 1, 'fake': 0})\n",
        "y_val = val_df['label'].map({'real': 1, 'fake': 0})\n",
        "y_test = test_df['label'].map({'real': 1, 'fake': 0})\n",
        "\n",
        "# TF-IDF vectorization with improvements\n",
        "vectorizer = TfidfVectorizer(\n",
        "    ngram_range=(1, 2),      # Include unigrams and bigrams\n",
        "    max_features=5000,       # Limit vocabulary size\n",
        "    min_df=5,                # Minimum document frequency\n",
        "    max_df=0.9,              # Remove very common words\n",
        ")\n",
        "\n",
        "# Fit vectorizer on training data\n",
        "X_train_vec = vectorizer.fit_transform(train_df['clean_text'])\n",
        "X_val_vec = vectorizer.transform(val_df['clean_text'])\n",
        "X_test_vec = vectorizer.transform(test_df['clean_text'])\n",
        "\n",
        "# Train Logistic Regression \n",
        "log_reg = LogisticRegression(max_iter=1000, random_state=42)\n",
        "log_reg.fit(X_train_vec, y_train)\n",
        "\n",
        "# Validate model \n",
        "y_val_pred = log_reg.predict(X_val_vec)\n",
        "print(\"Validation Results:\")\n",
        "print(classification_report(y_val, y_val_pred))\n",
        "\n",
        "# Test model \n",
        "y_test_pred = log_reg.predict(X_test_vec)\n",
        "print(\"Test Results:\")\n",
        "print(classification_report(y_test, y_test_pred))\n",
        "\n",
        "# # Comparison: KNN \n",
        "knn = KNeighborsClassifier(n_neighbors=5)\n",
        "knn.fit(X_train_vec, y_train)\n",
        "\n",
        "y_val_pred_knn = knn.predict(X_val_vec)\n",
        "print(\"KNN Validation Results:\")\n",
        "print(classification_report(y_val, y_val_pred_knn))\n",
        "\n",
        "y_test_pred_knn = knn.predict(X_test_vec)\n",
        "print(\"KNN Test Results:\")\n",
        "print(classification_report(y_test, y_test_pred_knn))\n",
        "\n",
        "# Test data\n",
        "print(\"y_test length:\", len(y_test))\n",
        "print(\"X_test_vec shape:\", X_test_vec.shape)\n",
        "print(\"Predictions length:\", len(y_test_pred))\n",
        "print(\"First few y_test values:\", y_test.head())\n",
        "print(\"First few predictions:\", y_test_pred[:10])\n",
        "print(\"Logistic Regression Test Accuracy:\", accuracy_score(y_test, y_test_pred))\n",
        "print(\"Logistic Regression Test F1 Score:\", f1_score(y_test, y_test_pred))\n",
        "\n",
        "# Metrics and Confusion Matrix \n",
        "cm = confusion_matrix(y_test, y_test_pred)\n",
        "sns.heatmap(cm, annot=True, fmt=\"d\", cmap=\"Blues\")\n",
        "plt.xlabel(\"Predicted\")\n",
        "plt.ylabel(\"Actual\")\n",
        "plt.title(\"Confusion Matrix - Logistic Regression\")\n",
        "plt.show()\n",
        "\n"
      ]
    },
    {
      "cell_type": "markdown",
      "metadata": {},
      "source": [
        "y-axis:\n",
        "0 Actual Negative\n",
        "1 Actual Postive\n",
        "\n",
        "x-axis:\n",
        "0 Predicted Negative\n",
        "1 Predicated positive\n",
        "\n",
        "0,0 - True Negative\n",
        "0,1 - False Negative\n",
        "0,1 - False Positve\n",
        "1,1 - True Postive\n",
        "\n",
        "- 10 Samples were actually fake, and correctly predicted as fake\n",
        "- 36 Samples were acutally true, and correctly predicted as true "
      ]
    },
    {
      "cell_type": "markdown",
      "metadata": {},
      "source": [
        "# Extras: Tests and Comparisons"
      ]
    },
    {
      "cell_type": "markdown",
      "metadata": {},
      "source": [
        "### Tests"
      ]
    },
    {
      "cell_type": "code",
      "execution_count": 21,
      "metadata": {},
      "outputs": [
        {
          "name": "stdout",
          "output_type": "stream",
          "text": [
            "Number of bigrams: 2042\n",
            "Example bigrams: ['00 confirmed', '00 pm', '000 people', '04 2020', '08 00', '09 30', '10 000', '10 day', '10 lakh', '10 million', '10 pm', '10 second', '10 statesuts', '100 people', '1000 death', '1000 link', '10000 case', '1000190000 confirm', '11 00', '11 lakh']\n"
          ]
        }
      ],
      "source": [
        "# Get all features (unigrams + bigrams)\n",
        "feature_names = vectorizer.get_feature_names_out()\n",
        "\n",
        "# Filter only bigrams (words with a space)\n",
        "bigrams = [word for word in feature_names if \" \" in word]\n",
        "\n",
        "print(f\"Number of bigrams: {len(bigrams)}\")\n",
        "print(\"Example bigrams:\", bigrams[:20])\n",
        "\n",
        "bigram_vectorizer = TfidfVectorizer(\n",
        "    ngram_range=(2, 2),   # Only bigrams\n",
        "    max_features=5000,\n",
        "    min_df=5,\n",
        "    max_df=0.9\n",
        ")\n"
      ]
    },
    {
      "cell_type": "markdown",
      "metadata": {},
      "source": [
        "### Vectorizer that only uses bigrams"
      ]
    },
    {
      "cell_type": "code",
      "execution_count": 22,
      "metadata": {},
      "outputs": [
        {
          "name": "stdout",
          "output_type": "stream",
          "text": [
            "Validation Results (Bigrams Only):\n",
            "              precision    recall  f1-score   support\n",
            "\n",
            "           0       0.87      0.90      0.89      1020\n",
            "           1       0.91      0.88      0.90      1120\n",
            "\n",
            "    accuracy                           0.89      2140\n",
            "   macro avg       0.89      0.89      0.89      2140\n",
            "weighted avg       0.89      0.89      0.89      2140\n",
            "\n",
            "Test Results (Bigrams Only):\n",
            "              precision    recall  f1-score   support\n",
            "\n",
            "           0       0.71      0.92      0.80        13\n",
            "           1       0.97      0.87      0.92        38\n",
            "\n",
            "    accuracy                           0.88        51\n",
            "   macro avg       0.84      0.90      0.86        51\n",
            "weighted avg       0.90      0.88      0.89        51\n",
            "\n",
            "Bigram Test Accuracy: 0.8823529411764706\n",
            "Bigram Test F1 Score: 0.9166666666666666\n"
          ]
        }
      ],
      "source": [
        "bigram_vectorizer = TfidfVectorizer(\n",
        "    ngram_range=(2, 2),   # Only bigrams\n",
        "    max_features=5000,\n",
        "    min_df=5,\n",
        "    max_df=0.9\n",
        ")\n",
        "\n",
        "X_train_bigram = bigram_vectorizer.fit_transform(train_df['clean_text'])\n",
        "X_val_bigram = bigram_vectorizer.transform(val_df['clean_text'])\n",
        "X_test_bigram = bigram_vectorizer.transform(test_df['clean_text'])\n",
        "\n",
        "log_reg_bigram = LogisticRegression(max_iter=1000, random_state=42)\n",
        "log_reg_bigram.fit(X_train_bigram, y_train)\n",
        "\n",
        "y_val_pred_bigram = log_reg_bigram.predict(X_val_bigram)\n",
        "y_test_pred_bigram = log_reg_bigram.predict(X_test_bigram)\n",
        "\n",
        "print(\"Validation Results (Bigrams Only):\")\n",
        "print(classification_report(y_val, y_val_pred_bigram))\n",
        "\n",
        "print(\"Test Results (Bigrams Only):\")\n",
        "print(classification_report(y_test, y_test_pred_bigram))\n",
        "\n",
        "print(\"Bigram Test Accuracy:\", accuracy_score(y_test, y_test_pred_bigram))\n",
        "print(\"Bigram Test F1 Score:\", f1_score(y_test, y_test_pred_bigram))"
      ]
    },
    {
      "cell_type": "markdown",
      "metadata": {},
      "source": [
        "### Most influential bigrams\n",
        "- uses logistic regression coeffiecients mapped back to features"
      ]
    },
    {
      "cell_type": "code",
      "execution_count": 24,
      "metadata": {},
      "outputs": [
        {
          "name": "stdout",
          "output_type": "stream",
          "text": [
            "Top influential bigrams:\n",
            "                        feature      coef\n",
            "1860            hashtag covid19  7.360339\n",
            "2432               link hashtag -3.221148\n",
            "953         coronavirus hashtag -3.172796\n",
            "3604                    rt user  2.639841\n",
            "1885  hashtag indiafightscorona  2.365095\n",
            "4408               user hashtag  2.026406\n",
            "1061            covid19 hashtag -1.881090\n",
            "652                case hashtag  1.746163\n",
            "1852    hashtag coronavirusfact -1.683887\n",
            "1964                  here link  1.639278\n",
            "1859              hashtag covid  1.576866\n",
            "2733            new coronavirus -1.513123\n",
            "1020                   covid 19 -1.357053\n",
            "2663                  more link  1.327422\n",
            "3892               state report  1.288036\n",
            "943            coronavirus case -1.281925\n",
            "3858             spread hashtag  1.271841\n",
            "974        coronavirusfact link -1.252866\n",
            "4244               total number  1.246529\n",
            "2513           manage isolation  1.244630\n"
          ]
        }
      ],
      "source": [
        "import numpy as np\n",
        "\n",
        "coef = log_reg.coef_[0]\n",
        "feature_names = vectorizer.get_feature_names_out()\n",
        "\n",
        "# Create dataframe\n",
        "coef_df = pd.DataFrame({\n",
        "    \"feature\": feature_names,\n",
        "    \"coef\": coef\n",
        "})\n",
        "\n",
        "# Filter bigrams\n",
        "bigram_coef_df = coef_df[coef_df['feature'].str.contains(\" \")]\n",
        "\n",
        "# Sort by absolute coefficient value\n",
        "bigram_coef_df = bigram_coef_df.reindex(bigram_coef_df.coef.abs().sort_values(ascending=False).index)\n",
        "\n",
        "print(\"Top influential bigrams:\")\n",
        "print(bigram_coef_df.head(20))"
      ]
    },
    {
      "cell_type": "markdown",
      "metadata": {},
      "source": [
        "## Comparison"
      ]
    },
    {
      "cell_type": "code",
      "execution_count": 25,
      "metadata": {},
      "outputs": [
        {
          "name": "stdout",
          "output_type": "stream",
          "text": [
            "\n",
            "=== Testing ngram_range=(1, 1) ===\n",
            "Validation Results:\n",
            "              precision    recall  f1-score   support\n",
            "\n",
            "           0       0.91      0.90      0.91      1020\n",
            "           1       0.91      0.92      0.92      1120\n",
            "\n",
            "    accuracy                           0.91      2140\n",
            "   macro avg       0.91      0.91      0.91      2140\n",
            "weighted avg       0.91      0.91      0.91      2140\n",
            "\n",
            "Test Results:\n",
            "              precision    recall  f1-score   support\n",
            "\n",
            "           0       0.83      0.77      0.80        13\n",
            "           1       0.92      0.95      0.94        38\n",
            "\n",
            "    accuracy                           0.90        51\n",
            "   macro avg       0.88      0.86      0.87        51\n",
            "weighted avg       0.90      0.90      0.90        51\n",
            "\n",
            "\n",
            "=== Testing ngram_range=(2, 2) ===\n",
            "Validation Results:\n",
            "              precision    recall  f1-score   support\n",
            "\n",
            "           0       0.87      0.90      0.89      1020\n",
            "           1       0.91      0.88      0.90      1120\n",
            "\n",
            "    accuracy                           0.89      2140\n",
            "   macro avg       0.89      0.89      0.89      2140\n",
            "weighted avg       0.89      0.89      0.89      2140\n",
            "\n",
            "Test Results:\n",
            "              precision    recall  f1-score   support\n",
            "\n",
            "           0       0.71      0.92      0.80        13\n",
            "           1       0.97      0.87      0.92        38\n",
            "\n",
            "    accuracy                           0.88        51\n",
            "   macro avg       0.84      0.90      0.86        51\n",
            "weighted avg       0.90      0.88      0.89        51\n",
            "\n",
            "\n",
            "Top 20 bigrams for ngram_range=(2, 2):\n",
            "hashtag covid19: 6.5068\n",
            "hashtag indiafightscorona: 4.3761\n",
            "coronavirus hashtag: -4.0151\n",
            "state report: 3.8964\n",
            "rt user: 3.1540\n",
            "total number: 3.1000\n",
            "user hashtag: 2.9227\n",
            "here link: 2.8996\n",
            "manage isolation: 2.7391\n",
            "covid19 hashtag: -2.7229\n",
            "new case: 2.5798\n",
            "active case: 2.4952\n",
            "donald trump: -2.4902\n",
            "7day average: 2.3185\n",
            "case hashtag: 2.3132\n",
            "hashtag covid: 2.2845\n",
            "people test: 2.2604\n",
            "novel coronavirus: -2.2317\n",
            "cure covid19: -2.2090\n",
            "new coronavirus: -2.1387\n",
            "\n",
            "=== Testing ngram_range=(1, 2) ===\n",
            "Validation Results:\n",
            "              precision    recall  f1-score   support\n",
            "\n",
            "           0       0.93      0.92      0.92      1020\n",
            "           1       0.93      0.94      0.93      1120\n",
            "\n",
            "    accuracy                           0.93      2140\n",
            "   macro avg       0.93      0.93      0.93      2140\n",
            "weighted avg       0.93      0.93      0.93      2140\n",
            "\n",
            "Test Results:\n",
            "              precision    recall  f1-score   support\n",
            "\n",
            "           0       0.83      0.77      0.80        13\n",
            "           1       0.92      0.95      0.94        38\n",
            "\n",
            "    accuracy                           0.90        51\n",
            "   macro avg       0.88      0.86      0.87        51\n",
            "weighted avg       0.90      0.90      0.90        51\n",
            "\n",
            "\n",
            "Top 20 bigrams for ngram_range=(1, 2):\n",
            "hashtag covid19: 7.3603\n",
            "link hashtag: -3.2211\n",
            "coronavirus hashtag: -3.1728\n",
            "rt user: 2.6398\n",
            "hashtag indiafightscorona: 2.3651\n",
            "user hashtag: 2.0264\n",
            "covid19 hashtag: -1.8811\n",
            "case hashtag: 1.7462\n",
            "hashtag coronavirusfact: -1.6839\n",
            "here link: 1.6393\n",
            "hashtag covid: 1.5769\n",
            "new coronavirus: -1.5131\n",
            "covid 19: -1.3571\n",
            "more link: 1.3274\n",
            "state report: 1.2880\n",
            "coronavirus case: -1.2819\n",
            "spread hashtag: 1.2718\n",
            "coronavirusfact link: -1.2529\n",
            "total number: 1.2465\n",
            "manage isolation: 1.2446\n",
            "\n",
            "=== Ngram Range Performance Comparison ===\n",
            "  ngram_range  val_accuracy    val_f1  test_accuracy   test_f1\n",
            "0      (1, 1)      0.913084  0.917260       0.901961  0.935065\n",
            "1      (2, 2)      0.892056  0.895143       0.882353  0.916667\n",
            "2      (1, 2)      0.927570  0.931264       0.901961  0.935065\n"
          ]
        }
      ],
      "source": [
        "from sklearn.linear_model import LogisticRegression\n",
        "from sklearn.metrics import accuracy_score, f1_score, classification_report\n",
        "import pandas as pd\n",
        "import numpy as np\n",
        "\n",
        "def test_ngram_ranges_with_bigrams(train_texts, val_texts, test_texts, y_train, y_val, y_test,\n",
        "                                     max_features=5000, min_df=5, max_df=0.9,\n",
        "                                     top_n_bigrams=20):\n",
        "    results = []\n",
        "\n",
        "    for ngram_range in [(1, 1), (2, 2), (1, 2)]:\n",
        "        print(f\"\\n=== Testing ngram_range={ngram_range} ===\")\n",
        "\n",
        "        vectorizer = TfidfVectorizer(\n",
        "            ngram_range=ngram_range,\n",
        "            max_features=max_features,\n",
        "            min_df=min_df,\n",
        "            max_df=max_df\n",
        "        )\n",
        "\n",
        "        X_train_vec = vectorizer.fit_transform(train_texts)\n",
        "        X_val_vec = vectorizer.transform(val_texts)\n",
        "        X_test_vec = vectorizer.transform(test_texts)\n",
        "\n",
        "        model = LogisticRegression(max_iter=1000, random_state=42)\n",
        "        model.fit(X_train_vec, y_train)\n",
        "\n",
        "        y_val_pred = model.predict(X_val_vec)\n",
        "        y_test_pred = model.predict(X_test_vec)\n",
        "\n",
        "        val_acc = accuracy_score(y_val, y_val_pred)\n",
        "        val_f1 = f1_score(y_val, y_val_pred)\n",
        "\n",
        "        test_acc = accuracy_score(y_test, y_test_pred)\n",
        "        test_f1 = f1_score(y_test, y_test_pred)\n",
        "\n",
        "        print(\"Validation Results:\")\n",
        "        print(classification_report(y_val, y_val_pred))\n",
        "        print(\"Test Results:\")\n",
        "        print(classification_report(y_test, y_test_pred))\n",
        "\n",
        "        results.append({\n",
        "            \"ngram_range\": ngram_range,\n",
        "            \"val_accuracy\": val_acc,\n",
        "            \"val_f1\": val_f1,\n",
        "            \"test_accuracy\": test_acc,\n",
        "            \"test_f1\": test_f1\n",
        "        })\n",
        "\n",
        "        # If bigrams are included, show top bigrams\n",
        "        if ngram_range[1] >= 2:\n",
        "            feature_names = vectorizer.get_feature_names_out()\n",
        "            coef = model.coef_[0]\n",
        "\n",
        "            bigram_features = [\n",
        "                (feature, coef[i])\n",
        "                for i, feature in enumerate(feature_names) if \" \" in feature\n",
        "            ]\n",
        "\n",
        "            bigram_features_sorted = sorted(bigram_features, key=lambda x: abs(x[1]), reverse=True)\n",
        "            print(f\"\\nTop {top_n_bigrams} bigrams for ngram_range={ngram_range}:\")\n",
        "            for feature, weight in bigram_features_sorted[:top_n_bigrams]:\n",
        "                print(f\"{feature}: {weight:.4f}\")\n",
        "\n",
        "    return pd.DataFrame(results)\n",
        "\n",
        "# Usage:\n",
        "comparison_df = test_ngram_ranges_with_bigrams(\n",
        "    train_df['clean_text'],\n",
        "    val_df['clean_text'],\n",
        "    test_df['clean_text'],\n",
        "    y_train, y_val, y_test\n",
        ")\n",
        "\n",
        "print(\"\\n=== Ngram Range Performance Comparison ===\")\n",
        "print(comparison_df)"
      ]
    },
    {
      "cell_type": "markdown",
      "metadata": {},
      "source": [
        "### Notes:\n",
        "- (1,1) Unigrams\n",
        "- (2,2) Bigrams\n",
        "- (1,2) Unigrams + Bigrams"
      ]
    },
    {
      "cell_type": "markdown",
      "metadata": {},
      "source": [
        "## SVM Model\n",
        "\n",
        "### Support Vector Machine (SVM) Model Version\n",
        "- **Model type:** Linear Support Vector Classifier (`LinearSVC`)  \n",
        "- **Purpose:** Evaluates performance of a margin-based linear classifier on the same TF-IDF text features.\n",
        "- **Key characteristics:**\n",
        "  - SVM aims to find the *optimal hyperplane* that maximally separates “real” and “fake” classes in a high-dimensional vector space.\n",
        "  - Performs well in high-dimensional, sparse feature spaces typical of text data.\n",
        "  - Uses `LinearSVC` (efficient linear version of SVM) for scalability on thousands of TF-IDF features.\n",
        "  - Default regularization parameter `C=1.0` was used; tuning could further optimize results.\n",
        "\n",
        "- **Validation performance:**  \n",
        "  - Accuracy: **94%**  \n",
        "  - F1-score (weighted): **0.94**  \n",
        "  - Balanced performance across both classes (`real` and `fake`).\n",
        "\n",
        "- **Test performance:**  \n",
        "  - Accuracy: **90%**  \n",
        "  - F1-score (class “real”): **0.93**  \n",
        "  - Strong recall (0.92) for the “real” class — shows that the SVM generalizes well with minimal overfitting.\n",
        "  - Performs slightly better on minority class detection compared to KNN.\n",
        "\n",
        "- **Confusion Matrix Insight:**  \n",
        "  - Most misclassifications occurred on the smaller “fake” class (13 samples in test set), likely due to class imbalance.\n",
        "  - Green heatmap visualization clearly shows a diagonal dominance (indicating high correctness).\n",
        "\n",
        "#### Why include SVM?\n",
        "- To test a **margin-based linear classifier** against logistic regression, since both handle text data well but optimize different objective functions.\n",
        "- SVM can outperform logistic regression when classes are not easily separable or when data has high variance.\n",
        "- Adds robustness to the experiment by comparing **probabilistic (Logistic Regression)** vs **margin-based (SVM)** classifiers.\n",
        "- Result shows that **SVM achieved similar accuracy to Logistic Regression** but slightly improved precision–recall balance on smaller datasets.\n"
      ]
    },
    {
      "cell_type": "code",
      "execution_count": null,
      "metadata": {},
      "outputs": [
        {
          "name": "stdout",
          "output_type": "stream",
          "text": [
            "SVM Validation Results:\n",
            "              precision    recall  f1-score   support\n",
            "\n",
            "           0       0.95      0.94      0.94      1020\n",
            "           1       0.94      0.95      0.95      1120\n",
            "\n",
            "    accuracy                           0.94      2140\n",
            "   macro avg       0.94      0.94      0.94      2140\n",
            "weighted avg       0.94      0.94      0.94      2140\n",
            "\n",
            "SVM Test Results:\n",
            "              precision    recall  f1-score   support\n",
            "\n",
            "           0       0.79      0.85      0.81        13\n",
            "           1       0.95      0.92      0.93        38\n",
            "\n",
            "    accuracy                           0.90        51\n",
            "   macro avg       0.87      0.88      0.87        51\n",
            "weighted avg       0.91      0.90      0.90        51\n",
            "\n",
            "SVM Test Accuracy: 0.9019607843137255\n",
            "SVM Test F1 Score: 0.9333333333333333\n"
          ]
        },
        {
          "data": {
            "image/png": "[encoded data removed]",
            "text/plain": [
              "<Figure size 640x480 with 2 Axes>"
            ]
          },
          "metadata": {},
          "output_type": "display_data"
        }
      ],
      "source": [
        "from sklearn.svm import LinearSVC \n",
        "\n",
        "# train support vector machine (SVM)\n",
        "svm_model = LinearSVC(random_state=42)\n",
        "svm_model.fit(X_train_vec, y_train)\n",
        "\n",
        "# validation results\n",
        "y_val_pred_svm = svm_model.predict(X_val_vec)\n",
        "print(\"SVM Validation Results:\")\n",
        "print(classification_report(y_val, y_val_pred_svm))\n",
        "\n",
        "# test results\n",
        "y_test_pred_svm = svm_model.predict(X_test_vec)\n",
        "print(\"SVM Test Results:\")\n",
        "print(classification_report(y_test, y_test_pred_svm))\n",
        "\n",
        "# additional metrics\n",
        "svm_test_accuracy = accuracy_score(y_test, y_test_pred_svm)\n",
        "svm_test_f1 = f1_score(y_test, y_test_pred_svm)\n",
        "print(\"SVM Test Accuracy:\", svm_test_accuracy)\n",
        "print(\"SVM Test F1 Score:\", svm_test_f1)\n",
        "\n",
        "# confusion matrix visualization\n",
        "cm_svm = confusion_matrix(y_test, y_test_pred_svm)\n",
        "sns.heatmap(cm_svm, annot=True, fmt=\"d\", cmap=\"Greens\")\n",
        "plt.xlabel(\"Predicted\")\n",
        "plt.ylabel(\"Actual\")\n",
        "plt.title(\"Confusion Matrix - Support Vector Machine (SVM)\")\n",
        "plt.show()\n"
      ]
    },
    {
      "cell_type": "markdown",
      "metadata": {},
      "source": [
        "# SVM Model Using Bigrams Only\n",
        "\n",
        "1. **Bigram TF-IDF Vectorization**\n",
        "   - Creates features only from bigrams (pairs of consecutive words).  \n",
        "   - Limits vocabulary to 5000 features.  \n",
        "   - Ignores very rare (<5 docs) and very common (>90% docs) bigrams.  \n",
        "\n",
        "2. **Transform Training, Validation, and Test Data**\n",
        "   - Training set: learns vocabulary and computes TF-IDF values.  \n",
        "   - Validation/Test sets: transformed using the same learned vocabulary.  \n",
        "\n",
        "3. **SVM Training**\n",
        "   - Linear Support Vector Machine (`LinearSVC`) trained on bigram features only.  \n",
        "\n",
        "4. **Validation & Testing**\n",
        "   - Predicts labels on validation and test sets.  \n",
        "   - `classification_report()` shows precision, recall, F1-score, and support.  \n",
        "\n",
        "5. **Performance Metrics**\n",
        "   - Accuracy: proportion of correct predictions.  \n",
        "   - F1-score: harmonic mean of precision and recall; useful for imbalanced classes.  \n",
        "\n",
        "6. **Confusion Matrix**\n",
        "   - Visual representation of true vs predicted labels.  \n",
        "   - Helps identify misclassifications between classes.  \n",
        "\n",
        "7. **Observations from Results**\n",
        "   - **Validation Set:**  \n",
        "     - Accuracy ≈ 0.89, F1-score ≈ 0.89  \n",
        "     - Both classes have relatively balanced precision/recall.  \n",
        "   - **Test Set:**  \n",
        "     - Accuracy ≈ 0.86, F1-score ≈ 0.90  \n",
        "     - Class `0` (fake) has slightly lower precision (0.69) but good recall (0.85)  \n",
        "     - Class `1` (real) performs better (precision 0.94, recall 0.87)  \n",
        "   - Using **bigrams only** slightly reduces overall accuracy compared to unigrams + bigrams, but still maintains strong F1-scores.\n"
      ]
    },
    {
      "cell_type": "code",
      "execution_count": null,
      "metadata": {},
      "outputs": [
        {
          "name": "stdout",
          "output_type": "stream",
          "text": [
            "SVM Validation Results (Bigrams Only):\n",
            "              precision    recall  f1-score   support\n",
            "\n",
            "           0       0.87      0.91      0.89      1020\n",
            "           1       0.92      0.88      0.90      1120\n",
            "\n",
            "    accuracy                           0.89      2140\n",
            "   macro avg       0.89      0.90      0.89      2140\n",
            "weighted avg       0.90      0.89      0.89      2140\n",
            "\n",
            "SVM Test Results (Bigrams Only):\n",
            "              precision    recall  f1-score   support\n",
            "\n",
            "           0       0.69      0.85      0.76        13\n",
            "           1       0.94      0.87      0.90        38\n",
            "\n",
            "    accuracy                           0.86        51\n",
            "   macro avg       0.82      0.86      0.83        51\n",
            "weighted avg       0.88      0.86      0.87        51\n",
            "\n",
            "SVM Test Accuracy (Bigrams Only): 0.8627450980392157\n",
            "SVM Test F1 Score (Bigrams Only): 0.9041095890410958\n"
          ]
        },
        {
          "data": {
            "image/png": "[encoded data removed]",
            "text/plain": [
              "<Figure size 640x480 with 2 Axes>"
            ]
          },
          "metadata": {},
          "output_type": "display_data"
        }
      ],
      "source": [
        "# create bigram-only TF-IDF vectors\n",
        "bigram_vectorizer = TfidfVectorizer(\n",
        "    ngram_range=(2, 2),   # Only bigrams\n",
        "    max_features=5000,\n",
        "    min_df=5,\n",
        "    max_df=0.9\n",
        ")\n",
        "\n",
        "# fit on training data and transform\n",
        "X_train_bigrams = bigram_vectorizer.fit_transform(train_df['clean_text'])\n",
        "X_val_bigrams = bigram_vectorizer.transform(val_df['clean_text'])\n",
        "X_test_bigrams = bigram_vectorizer.transform(test_df['clean_text'])\n",
        "\n",
        "# train SVM on bigrams only\n",
        "svm_bigram_model = LinearSVC(random_state=42)\n",
        "svm_bigram_model.fit(X_train_bigrams, y_train)\n",
        "\n",
        "# validate bigram-only SVM\n",
        "y_val_pred_bigram = svm_bigram_model.predict(X_val_bigrams)\n",
        "print(\"SVM Validation Results (Bigrams Only):\")\n",
        "print(classification_report(y_val, y_val_pred_bigram))\n",
        "\n",
        "# test bigram-only SVM\n",
        "y_test_pred_bigram = svm_bigram_model.predict(X_test_bigrams)\n",
        "print(\"SVM Test Results (Bigrams Only):\")\n",
        "print(classification_report(y_test, y_test_pred_bigram))\n",
        "\n",
        "# additional metrics\n",
        "svm_bigram_accuracy = accuracy_score(y_test, y_test_pred_bigram)\n",
        "svm_bigram_f1 = f1_score(y_test, y_test_pred_bigram)\n",
        "print(\"SVM Test Accuracy (Bigrams Only):\", svm_bigram_accuracy)\n",
        "print(\"SVM Test F1 Score (Bigrams Only):\", svm_bigram_f1)\n",
        "\n",
        "# confusion matrix for bigram SVM\n",
        "cm_bigram = confusion_matrix(y_test, y_test_pred_bigram)\n",
        "sns.heatmap(cm_bigram, annot=True, fmt=\"d\", cmap=\"Oranges\")\n",
        "plt.xlabel(\"Predicted\")\n",
        "plt.ylabel(\"Actual\")\n",
        "plt.title(\"Confusion Matrix - SVM (Bigrams Only)\")\n",
        "plt.show()\n"
      ]
    },
    {
      "cell_type": "markdown",
      "metadata": {},
      "source": [
        "# SVM Model Performance Comparison\n",
        "\n",
        "1. **Purpose**\n",
        "   - Compare metrics between two SVM models: \n",
        "   \n",
        "     a) Original SVM (unigrams + bigrams)  \n",
        "     b) SVM trained on bigrams only  \n",
        "\n",
        "2. **Metrics Included**\n",
        "   - Test Accuracy  \n",
        "   - Test F1 Score  \n",
        "\n",
        "3. **Results Observations**\n",
        "   - Original SVM (unigrams + bigrams):  \n",
        "     - Accuracy ≈ 0.90, F1-score ≈ 0.93  \n",
        "     - Slightly better performance than bigram-only SVM.  \n",
        "   - Bigram-only SVM:  \n",
        "     - Accuracy ≈ 0.86, F1-score ≈ 0.90  \n",
        "     - Performance slightly lower but still reasonable, especially for class `1` (real news).  \n",
        "\n",
        "4. **Conclusion**\n",
        "   - Including unigrams alongside bigrams improves overall SVM performance.  \n",
        "   - Bigram-only features can still be useful, especially if the focus is on phrase patterns, but may lose some general context captured by unigrams.\n"
      ]
    },
    {
      "cell_type": "code",
      "execution_count": null,
      "metadata": {},
      "outputs": [
        {
          "name": "stdout",
          "output_type": "stream",
          "text": [
            "SVM Model Performance Comparison:\n",
            "                      Model  Test Accuracy  Test F1 Score\n",
            "0  SVM (Unigrams + Bigrams)       0.901961       0.933333\n",
            "1        SVM (Bigrams Only)       0.862745       0.904110\n"
          ]
        }
      ],
      "source": [
        "import pandas as pd\n",
        "\n",
        "# collect metrics for comparison\n",
        "comparison_metrics = {\n",
        "    \"Model\": [\"SVM (Unigrams + Bigrams)\", \"SVM (Bigrams Only)\"],\n",
        "    \"Test Accuracy\": [svm_test_accuracy, svm_bigram_accuracy],\n",
        "    \"Test F1 Score\": [svm_test_f1, svm_bigram_f1]\n",
        "}\n",
        "\n",
        "comparison_df = pd.DataFrame(comparison_metrics)\n",
        "\n",
        "# display the comparison\n",
        "print(\"SVM Model Performance Comparison:\")\n",
        "print(comparison_df)\n"
      ]
    },
    {
      "cell_type": "markdown",
      "metadata": {},
      "source": [
        "# Top Influential Bigrams for SVM\n",
        "\n",
        "1. **Purpose**\n",
        "   - Identify which bigrams (two-word phrases) have the strongest influence on the SVM model's predictions.\n",
        "   - Positive coefficients push the model toward predicting class `1` (real news).  \n",
        "   - Negative coefficients push the model toward predicting class `0` (fake news).\n",
        "\n",
        "2. **Observations from Results**\n",
        "   - Strong positive bigrams (class `1` - real):\n",
        "     - \"hashtag covid19\" → coef = 5.30  \n",
        "     - \"local lockdown\" → coef = 1.69  \n",
        "     - \"say link\" → coef = 1.45  \n",
        "     - \"hashtag coronavirus\" → coef = 1.41  \n",
        "     - \"rt user\" → coef = 1.38  \n",
        "\n",
        "   - Strong negative bigrams (class `0` - fake):\n",
        "     - \"coronavirus hashtag\" → coef = -2.31  \n",
        "     - \"covid19 hashtag\" → coef = -1.62  \n",
        "     - \"link hashtag\" → coef = -1.57  \n",
        "     - \"testing kit\" → coef = -1.40  \n",
        "     - \"coronavirus case\" → coef = -1.32  \n",
        "\n",
        "3. **Interpretation**\n",
        "   - Bigrams with \"hashtag covid19\", \"local lockdown\", or \"rt user\" are highly indicative of real news content.  \n",
        "   - Bigrams like \"coronavirus hashtag\" or \"link hashtag\" are indicative of fake news patterns, possibly reflecting spammy or misleading content.  \n",
        "   - This analysis helps understand **which phrases the SVM model considers most predictive** and can guide feature engineering or model explainability.\n",
        "\n",
        "4. **Next Steps**\n",
        "   - Optionally, visualize these top bigrams with a **bar chart**, using coefficients as the bar heights to make the results more intuitive.  \n",
        "   - Consider combining unigram + bigram coefficient analysis for a complete feature importance overview.\n"
      ]
    },
    {
      "cell_type": "code",
      "execution_count": null,
      "metadata": {},
      "outputs": [
        {
          "name": "stdout",
          "output_type": "stream",
          "text": [
            "Top influential bigrams for SVM:\n",
            "                        feature      coef\n",
            "1860            hashtag covid19  5.296896\n",
            "953         coronavirus hashtag -2.313167\n",
            "2447             local lockdown  1.692295\n",
            "1061            covid19 hashtag -1.621350\n",
            "2432               link hashtag -1.573988\n",
            "3638                   say link  1.451031\n",
            "1851        hashtag coronavirus  1.408671\n",
            "1859              hashtag covid  1.405086\n",
            "4126                testing kit -1.401423\n",
            "3604                    rt user  1.382948\n",
            "1885  hashtag indiafightscorona  1.370759\n",
            "943            coronavirus case -1.320450\n",
            "3671            second national  1.309335\n",
            "1318                   die link  1.254187\n",
            "4519                  warn link  1.233100\n",
            "1020                   covid 19 -1.202280\n",
            "1998               home hashtag  1.163818\n",
            "3010           pandemic hashtag -1.163609\n",
            "4408               user hashtag  1.135694\n",
            "4091               test hashtag  1.099609\n"
          ]
        }
      ],
      "source": [
        "import numpy as np\n",
        "import pandas as pd\n",
        "\n",
        "# extract coefficients from trained SVM (LinearSVC)\n",
        "coef = svm_model.coef_[0]  # replace svm_model with the SVM instance you trained\n",
        "feature_names = vectorizer.get_feature_names_out()  # use the same vectorizer you trained SVM with\n",
        "\n",
        "# create dataframe of features and coefficients\n",
        "coef_df_svm = pd.DataFrame({\n",
        "    \"feature\": feature_names,\n",
        "    \"coef\": coef\n",
        "})\n",
        "\n",
        "# filter only bigrams\n",
        "bigram_coef_df_svm = coef_df_svm[coef_df_svm['feature'].str.contains(\" \")]\n",
        "\n",
        "# sort by absolute coefficient value (most influential bigrams first)\n",
        "bigram_coef_df_svm = bigram_coef_df_svm.reindex(bigram_coef_df_svm.coef.abs().sort_values(ascending=False).index)\n",
        "\n",
        "# display top 20 influential bigrams for SVM\n",
        "print(\"Top influential bigrams for SVM:\")\n",
        "print(bigram_coef_df_svm.head(20))\n"
      ]
    }
  ],
  "metadata": {
    "colab": {
      "provenance": []
    },
    "kernelspec": {
      "display_name": "ctip",
      "language": "python",
      "name": "python3"
    },
    "language_info": {
      "codemirror_mode": {
        "name": "ipython",
        "version": 3
      },
      "file_extension": ".py",
      "mimetype": "text/x-python",
      "name": "python",
      "nbconvert_exporter": "python",
      "pygments_lexer": "ipython3",
      "version": "3.13.7"
    }
  },
  "nbformat": 4,
  "nbformat_minor": 0
}

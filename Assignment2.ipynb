{
  "cells": [
    {
      "cell_type": "markdown",
      "metadata": {
        "id": "4sKEV-sUostG"
      },
      "source": [
        "\n",
        "# COS30049 - Assignment 2\n",
        "### Session 26 Group 2\n",
        "### Swinburne Univeristy of Technology"
      ]
    },
    {
      "cell_type": "markdown",
      "metadata": {
        "id": "vQ_ybMeNrJ2Q"
      },
      "source": [
        "## Objective\n",
        "- insert project objective\n"
      ]
    },
    {
      "cell_type": "markdown",
      "metadata": {
        "id": "JmHHRYS4tHnC"
      },
      "source": [
        "### 1.1 Test if the ML reads the file\n",
        "\n",
        "We have a dataset named `Constraint_English_Train.xlsx`. We use pd.read_excel() to read the file, and .head() to retrieve the first 5 data from the set."
      ]
    },
    {
      "cell_type": "code",
      "execution_count": 53,
      "metadata": {
        "colab": {
          "base_uri": "https://localhost:8080/"
        },
        "id": "-6GQq6kWtK_O",
        "outputId": "65e816e8-e5a6-4811-9ba6-59cd80e90be3"
      },
      "outputs": [
        {
          "name": "stdout",
          "output_type": "stream",
          "text": [
            "   id                                              tweet label\n",
            "0   1  The CDC currently reports 99031 deaths. In gen...  real\n",
            "1   2  States reported 1121 deaths a small rise from ...  real\n",
            "2   3  Politically Correct Woman (Almost) Uses Pandem...  fake\n",
            "3   4  #IndiaFightsCorona: We have 1524 #COVID testin...  real\n",
            "4   5  Populous states can generate large case counts...  real\n"
          ]
        }
      ],
      "source": [
        "import pandas as pd\n",
        "\n",
        "# Load dataset\n",
        "file_path = \"Constraint_English_Train.xlsx\"\n",
        "misinfo_data = pd.read_excel(file_path)\n",
        "\n",
        "# Preview first few rows\n",
        "print(misinfo_data.head())"
      ]
    },
    {
      "cell_type": "markdown",
      "metadata": {
        "id": "Wd-KHrIwwqL8"
      },
      "source": [
        "### 1.2 Test that the ML can retrieve data from set that contains input\n",
        "- using `import` re\n",
        "- We use .compile() for a pattern we want to find from the data set containing \"CDC\".\n",
        "\n"
      ]
    },
    {
      "cell_type": "code",
      "execution_count": 54,
      "metadata": {
        "id": "KU_bg_acs0-G"
      },
      "outputs": [
        {
          "name": "stdout",
          "output_type": "stream",
          "text": [
            "Rows containing 'CDC':\n",
            "        id                                              tweet label\n",
            "0        1  The CDC currently reports 99031 deaths. In gen...  real\n",
            "6        7  If you tested positive for #COVID19 and have n...  real\n",
            "27      28  Just Appendix B gathering all the state orders...  real\n",
            "33      34  CDC Recommends Mothers Stop Breastfeeding To B...  fake\n",
            "138    139  Youth sports organizations: As you resume acti...  real\n",
            "...    ...                                                ...   ...\n",
            "6338  6339  ???The CDC can detain anyone with a fever ??\" ...  fake\n",
            "6345  6346  1645 deaths were reported today bringing the t...  real\n",
            "6377  6378  Acc to @CDCgov &amp; @WHO there is currently n...  real\n",
            "6391  6392  The CDC ???adjusted the US Covid deaths from 1...  fake\n",
            "6405  6406  The cloth face coverings recommended to slow s...  real\n",
            "\n",
            "[281 rows x 3 columns]\n"
          ]
        },
        {
          "name": "stderr",
          "output_type": "stream",
          "text": [
            "/var/folders/w0/r8xr9pyn4w19x3x9z5x82hm00000gn/T/ipykernel_13974/3022997758.py:17: FutureWarning: DataFrame.applymap has been deprecated. Use DataFrame.map instead.\n",
            "  matches = misinfo_data.applymap(lambda x: bool(pattern.search(str(x))))\n"
          ]
        }
      ],
      "source": [
        "import pandas as pd\n",
        "import re\n",
        "\n",
        "file_path = \"Constraint_English_Train.xlsx\"\n",
        "misinfo_data = pd.read_excel(file_path)\n",
        "\n",
        "# Compile the regex pattern\n",
        "pattern = re.compile(r'CDC', re.IGNORECASE)  # ignore case if needed\n",
        "\n",
        "# Example: check in a specific column, e.g., 'text'\n",
        "if 'text' in misinfo_data.columns:\n",
        "    matches = misinfo_data['text'].apply(lambda x: bool(pattern.search(str(x))))\n",
        "    print(\"Rows containing 'CDC':\")\n",
        "    print(misinfo_data[matches])\n",
        "else:\n",
        "    # If you want to search all columns\n",
        "    matches = misinfo_data.applymap(lambda x: bool(pattern.search(str(x))))\n",
        "    print(\"Rows containing 'CDC':\")\n",
        "    print(misinfo_data[matches.any(axis=1)])"
      ]
    },
    {
      "cell_type": "markdown",
      "metadata": {},
      "source": [
        "# Test emoji detection"
      ]
    },
    {
      "cell_type": "code",
      "execution_count": 5,
      "metadata": {},
      "outputs": [
        {
          "name": "stdout",
          "output_type": "stream",
          "text": [
            "                 text  has_emoji\n",
            "0         Hello world      False\n",
            "1          Hi there 😀       True\n",
            "2  @user_name is cool      False\n",
            "3     No emojis here!       True\n"
          ]
        }
      ],
      "source": [
        "import pandas as pd\n",
        "import re\n",
        "\n",
        "df = pd.DataFrame({\n",
        "    'text': [\"Hello world\", \"Hi there 😀\", \"@user_name is cool\", \"No emojis here!\"]\n",
        "})\n",
        "\n",
        "pattern = re.compile(r'[^\\w\\s@]', flags=re.UNICODE)\n",
        "df['has_emoji'] = df['text'].apply(lambda x: bool(pattern.search(str(x))))\n",
        "\n",
        "print(df)"
      ]
    },
    {
      "cell_type": "markdown",
      "metadata": {},
      "source": [
        "# Test emoji refining"
      ]
    },
    {
      "cell_type": "code",
      "execution_count": 55,
      "metadata": {},
      "outputs": [
        {
          "name": "stderr",
          "output_type": "stream",
          "text": [
            "/opt/anaconda3/envs/ctip/lib/python3.13/site-packages/openpyxl/styles/stylesheet.py:237: UserWarning: Workbook contains no default style, apply openpyxl's default\n",
            "  warn(\"Workbook contains no default style, apply openpyxl's default\")\n"
          ]
        },
        {
          "name": "stdout",
          "output_type": "stream",
          "text": [
            "                                                  tweet  \\\n",
            "0     The CDC currently reports 99031 deaths. In gen...   \n",
            "1     States reported 1121 deaths a small rise from ...   \n",
            "2     Politically Correct Woman (Almost) Uses Pandem...   \n",
            "3     #IndiaFightsCorona: We have 1524 #COVID testin...   \n",
            "4     Populous states can generate large case counts...   \n",
            "...                                                 ...   \n",
            "6415  A tiger tested positive for COVID-19 please st...   \n",
            "6416  Autopsies prove that COVID-19 is a blood clot,...   \n",
            "6417  _A post claims a COVID-19 vaccine has already ...   \n",
            "6418  Aamir Khan Donate 250 Cr. In PM Relief Cares Fund   \n",
            "6419  It has been 93 days since the last case of COV...   \n",
            "\n",
            "                                             clean_text  \n",
            "0     The CDC currently reports 99031 deaths. In gen...  \n",
            "1     States reported 1121 deaths a small rise from ...  \n",
            "2     Politically Correct Woman Almost Uses Pandemic...  \n",
            "3     #IndiaFightsCorona We have 1524 #COVID testing...  \n",
            "4     Populous states can generate large case counts...  \n",
            "...                                                 ...  \n",
            "6415  A tiger tested positive for COVID19 please sta...  \n",
            "6416  Autopsies prove that COVID19 is a blood clot, ...  \n",
            "6417  A post claims a COVID19 vaccine has already be...  \n",
            "6418  Aamir Khan Donate 250 Cr. In PM Relief Cares Fund  \n",
            "6419  It has been 93 days since the last case of COV...  \n",
            "\n",
            "[6420 rows x 2 columns]\n"
          ]
        }
      ],
      "source": [
        "import pandas as pd\n",
        "import re\n",
        "\n",
        "file_path = \"Constraint_English_Train_GR.xlsx\"\n",
        "misinfo_data = pd.read_excel(file_path)\n",
        "df = pd.DataFrame(misinfo_data)\n",
        "\n",
        "# Step 1: Clean text safely\n",
        "def clean_text(text):\n",
        "    text = str(text)\n",
        "    \n",
        "    # Step 1a: Protect @usernames and #hashtags\n",
        "    placeholders = {}\n",
        "    for match in re.findall(r'(@\\w+|#\\w+)', text):\n",
        "        ph = f\"PLACEHOLDER{len(placeholders)}\"\n",
        "        placeholders[ph] = match\n",
        "        text = text.replace(match, ph)\n",
        "    \n",
        "    # Step 1b: Replace all underscores with spaces\n",
        "    text = text.replace('_', ' ')\n",
        "    \n",
        "    # Step 1c: Remove emojis / unusual symbols\n",
        "    # Keep letters, numbers, whitespace, @, #, ., ,, !, ?\n",
        "    text = re.sub(r'[^\\w\\s@.,!?#]', '', text, flags=re.UNICODE)\n",
        "    \n",
        "    # Step 1d: Remove leading punctuation (like . , ! ?) at start of text\n",
        "    text = re.sub(r'^[.,!?\\s]+', '', text)\n",
        "    \n",
        "    # Step 1e: Restore usernames and hashtags\n",
        "    for ph, original in placeholders.items():\n",
        "        text = text.replace(ph, original)\n",
        "    \n",
        "    return text\n",
        "\n",
        "# Apply cleaning function to the 'tweet' column\n",
        "df['clean_text'] = df['tweet'].apply(clean_text)\n",
        "\n",
        "# Optional: preview result\n",
        "print(df[['tweet', 'clean_text']])\n",
        "\n",
        "# Save cleaned file\n",
        "df.to_excel(\"Constraint_English_Train_Cleaned.xlsx\", index=False)"
      ]
    },
    {
      "cell_type": "markdown",
      "metadata": {},
      "source": [
        "# How to improve data cleaning and preprocessing?\n",
        "- use spelling correction libraries: TextBlob, pyspellchecker, SymSpell, BERT-based models"
      ]
    },
    {
      "cell_type": "markdown",
      "metadata": {},
      "source": [
        "# Test Frequency of Words\n",
        "### Needs filtering"
      ]
    },
    {
      "cell_type": "code",
      "execution_count": null,
      "metadata": {},
      "outputs": [
        {
          "name": "stdout",
          "output_type": "stream",
          "text": [
            "Top 20 words in dataset:\n",
            "covid19: 6307\n",
            "cases: 3444\n",
            "coronavirus: 3250\n",
            "people: 1489\n",
            "tests: 1393\n",
            "deaths: 1290\n",
            "states: 1156\n",
            "confirmed: 1030\n",
            "reported: 956\n",
            "testing: 934\n",
            "covid: 886\n",
            "health: 842\n",
            "india: 820\n",
            "state: 694\n",
            "report: 668\n",
            "indiafightscorona: 640\n",
            "virus: 619\n",
            "pandemic: 616\n",
            "case: 594\n",
            "patients: 587\n",
            "vaccine: 570\n",
            "update: 570\n",
            "says: 568\n",
            "1: 559\n",
            "their: 552\n",
            "data: 546\n",
            "hospital: 540\n",
            "rt: 532\n",
            "tested: 530\n",
            "positive: 524\n",
            "over: 520\n",
            "days: 517\n",
            "test: 502\n",
            "2: 497\n",
            "only: 492\n",
            "day: 484\n",
            "daily: 468\n",
            "may: 468\n",
            "after: 464\n",
            "trump: 462\n",
            "2020: 459\n",
            "last: 452\n",
            "active: 452\n",
            "lockdown: 445\n",
            "see: 444\n",
            "spread: 442\n",
            "US: 442\n",
            "rate: 430\n",
            "out: 428\n",
            "video: 423\n",
            "recovered: 414\n",
            "when: 410\n",
            "so: 402\n",
            "during: 402\n",
            "also: 398\n",
            "world: 390\n",
            "shows: 382\n",
            "million: 378\n",
            "yesterday: 368\n",
            "3: 359\n",
            "these: 356\n",
            "other: 354\n",
            "two: 354\n",
            "news: 349\n",
            "president: 344\n",
            "some: 344\n",
            "get: 342\n",
            "isolation: 340\n",
            "death: 336\n",
            "being: 334\n",
            "since: 332\n",
            "numbers: 332\n",
            "first: 330\n",
            "government: 323\n",
            "mohfw_india: 322\n",
            "risk: 322\n",
            "said: 320\n",
            "country: 314\n",
            "due: 314\n",
            "discharged: 314\n",
            "coronavirusupdates: 312\n",
            "home: 311\n",
            "cdc: 308\n",
            "week: 306\n",
            "help: 304\n",
            "care: 304\n",
            "time: 298\n",
            "just: 298\n",
            "his: 298\n",
            "completed: 296\n",
            "public: 290\n",
            "because: 290\n",
            "published: 284\n",
            "recoveries: 284\n",
            "how: 282\n",
            "against: 280\n",
            "corona: 280\n",
            "per: 276\n",
            "those: 274\n",
            "staysafe: 274\n"
          ]
        }
      ],
      "source": [
        "import pandas as pd\n",
        "import re\n",
        "from collections import Counter\n",
        "\n",
        "# Load the dataset\n",
        "file_path = \"Constraint_English_Train_Cleaned.xlsx\"\n",
        "misinfo_data = pd.read_excel(file_path)\n",
        "\n",
        "# Combine all text into a single string\n",
        "text_data = \"\"\n",
        "\n",
        "# If there's a 'text' column, use that; otherwise, use all text-like columns\n",
        "if 'text' in misinfo_data.columns:\n",
        "    text_data = \" \".join(misinfo_data['text'].astype(str))\n",
        "else:\n",
        "    # concatenate all string columns\n",
        "    text_data = \" \".join(misinfo_data.astype(str).agg(' '.join, axis=1))\n",
        "    \n",
        "\n",
        "# Preprocess text: lowercase, remove punctuation (optional)\n",
        "text_data = text_data.lower()\n",
        "# Replace country mentions of \"us\" with \"US\"\n",
        "# This regex tries to match 'us' as a standalone word, not part of another word\n",
        "text_data = re.sub(r'\\bus\\b', 'US', text_data, flags=re.IGNORECASE)\n",
        "text_data = re.sub(r'[^\\w\\s]', '', text_data)  # remove punctuation\n",
        "\n",
        "# Split into words\n",
        "words = text_data.split()\n",
        "\n",
        "# Define stopwords and words to remove\n",
        "stopwords = set([\n",
        "    'the', 'and', 'is', 'in', 'it', 'of', 'to', 'a', 'for', 'on', \n",
        "    'with', 'as', 'by', 'at', 'an', 'be', 'this', 'that', 'from', 'or',\n",
        "    'there', 'about',\n",
        "    # Helpful verbs / prepositions\n",
        "    'are', 'were', 'was', 'have', 'has', 'had', 'do', 'does', 'did', 'can', 'could', 'should',\n",
        "    'i', 'you', 'he', 'she', 'they', 'we', 'them', 'him', 'her', 'its', 'my', 'your', 'our',\n",
        "    'will', 'been',\n",
        "    # Specific words to ignore\n",
        "    'real', 'fake',\n",
        "    # Pronoun / Noun / Adjective\n",
        "    'there', 'not', 'who', 'number', 'total', 'all', 'no', 'new', 'today', 'up', 'one', \n",
        "    # Conjunction\n",
        "    'than', 'more', 'now', 'but', 'if', 'which'\n",
        "])\n",
        "\n",
        "# Filter out stopwords\n",
        "words = [w for w in words if w not in stopwords]\n",
        "\n",
        "# Count word frequencies\n",
        "word_counts = Counter(words)\n",
        "\n",
        "# Show the top 100 most common words\n",
        "print(\"Top 100 words in dataset:\")\n",
        "for word, count in word_counts.most_common(100):\n",
        "    print(f\"{word}: {count}\")"
      ]
    },
    {
      "cell_type": "markdown",
      "metadata": {},
      "source": [
        "# Test: Word Frequency Chart\n",
        "### Needs to be revised"
      ]
    },
    {
      "cell_type": "code",
      "execution_count": 51,
      "metadata": {},
      "outputs": [
        {
          "data": {
            "image/png": "[encoded data removed]",
            "text/plain": [
              "<Figure size 600x400 with 1 Axes>"
            ]
          },
          "metadata": {},
          "output_type": "display_data"
        },
        {
          "data": {
            "image/png": "[encoded data removed]",
            "text/plain": [
              "<Figure size 1000x600 with 1 Axes>"
            ]
          },
          "metadata": {},
          "output_type": "display_data"
        }
      ],
      "source": [
        "import pandas as pd\n",
        "import matplotlib.pyplot as plt\n",
        "from collections import Counter\n",
        "\n",
        "# Suppose this is your earlier result\n",
        "# word_counts = Counter(words)  # from your previous code\n",
        "\n",
        "# Convert Counter to DataFrame\n",
        "df = pd.DataFrame(word_counts.items(), columns=['Word', 'Word Frequency'])\n",
        "\n",
        "# Optional: sort by frequency\n",
        "df = df.sort_values(by='Word Frequency', ascending=False).reset_index(drop=True)\n",
        "\n",
        "# Now you can plot a histogram\n",
        "plt.figure(figsize=(6,4))\n",
        "df['Word Frequency'].hist(bins=40)\n",
        "plt.title('Distribution of Word Frequencies')\n",
        "plt.xlabel('Word Frequency')\n",
        "plt.ylabel('Number of Words')\n",
        "plt.tight_layout()\n",
        "plt.show()\n",
        "\n",
        "# Or plot top 20 words as a bar chart\n",
        "top_n = 100\n",
        "df_top = df.head(top_n)\n",
        "plt.figure(figsize=(10,6))\n",
        "plt.bar(df_top['Word'], df_top['Word Frequency'], color='skyblue')\n",
        "plt.xticks(rotation=45, ha='right')\n",
        "plt.title(f'Top {top_n} Word Frequencies')\n",
        "plt.ylabel('Frequency')\n",
        "plt.tight_layout()\n",
        "plt.show()"
      ]
    },
    {
      "cell_type": "markdown",
      "metadata": {},
      "source": [
        "# How we can improve word frequency:\n"
      ]
    },
    {
      "cell_type": "markdown",
      "metadata": {},
      "source": [
        "## 1. Automate stopward removal\n",
        "- Use built-in lists (from NLTK or Scikit-learn) so we don't miss out words."
      ]
    },
    {
      "cell_type": "code",
      "execution_count": 20,
      "metadata": {},
      "outputs": [],
      "source": [
        "from sklearn.feature_extraction.text import ENGLISH_STOP_WORDS\n",
        "\n",
        "stopwords = set(ENGLISH_STOP_WORDS)"
      ]
    },
    {
      "cell_type": "markdown",
      "metadata": {},
      "source": [
        "## 2. Use frequency thresholds\n",
        "- FIlter words that appear too many times (eg. typos or irrelevant words). Rare words may also be noise."
      ]
    },
    {
      "cell_type": "code",
      "execution_count": 34,
      "metadata": {},
      "outputs": [
        {
          "name": "stdout",
          "output_type": "stream",
          "text": [
            "['The', 'death', 'The', 'death']\n"
          ]
        }
      ],
      "source": [
        "from collections import Counter\n",
        "\n",
        "text = \"The CDC currently reports 99031 deaths. In general the discrepancies in death counts between different sources are small and explicable. The death toll stands at roughly 100000 people today.\"\n",
        "words = text.split() \n",
        "\n",
        "min_freq = 2\n",
        "word_counts = Counter(words)\n",
        "words = [w for w in words if word_counts[w] >= min_freq]\n",
        "\n",
        "print(words)"
      ]
    },
    {
      "cell_type": "markdown",
      "metadata": {},
      "source": [
        "\n",
        "## 3. Keep bigrams or phrases\n",
        "- To avoid context loss caused by single words, we can add bigrams (pair of words) to capture patterns. Eg. \"fake news\", \"breaking news\"."
      ]
    },
    {
      "cell_type": "code",
      "execution_count": null,
      "metadata": {},
      "outputs": [],
      "source": [
        "from sklearn.feature_extraction.text import CountVectorizer\n",
        "\n",
        "vectorizer = CountVectorizer(ngram_range=(1, 2), stop_words=\"english\")\n",
        "X_counts = vectorizer.fit_transform(misinfo_data['clean_text'])"
      ]
    },
    {
      "cell_type": "markdown",
      "metadata": {},
      "source": [
        "## 4. Integrate filtering with TF-IDF\n",
        "- Apparent TF-IDF already has a method for handling word frequency filtering."
      ]
    },
    {
      "cell_type": "code",
      "execution_count": null,
      "metadata": {},
      "outputs": [],
      "source": []
    },
    {
      "cell_type": "code",
      "execution_count": null,
      "metadata": {},
      "outputs": [],
      "source": [
        "vectorizer = TfidfVectorizer(ngram_range=(1, 2), max_features=5000, min_df=5, max_df=0.9, stop_words=\"english\")"
      ]
    },
    {
      "cell_type": "markdown",
      "metadata": {},
      "source": [
        "\tWhat the code does is it removes:\n",
        "    - Words appearing too rarely (min_df)\n",
        "\t- Words appearing in almost all documents (max_df)\n",
        "\t- Stopwords automatically (stop_words=\"english\")"
      ]
    },
    {
      "cell_type": "markdown",
      "metadata": {},
      "source": [
        "# Improved word frequency filtering"
      ]
    },
    {
      "cell_type": "code",
      "execution_count": null,
      "metadata": {},
      "outputs": [],
      "source": [
        "import pandas as pd\n",
        "import re\n",
        "from collections import Counter\n",
        "from sklearn.feature_extraction.text import ENGLISH_STOP_WORDS\n",
        "\n",
        "def clean_text(text):\n",
        "    text = str(text).lower()\n",
        "    text = re.sub(r'\\bus\\b', 'US', text, flags=re.IGNORECASE)\n",
        "    text = re.sub(r'[^\\w\\s]', '', text)\n",
        "    return text.strip()\n",
        "\n",
        "def get_word_frequencies(df, text_column, stopwords=None, min_freq=1):\n",
        "    all_text = \" \".join(df[text_column].astype(str).apply(clean_text))\n",
        "    words = all_text.split()\n",
        "    if stopwords:\n",
        "        words = [w for w in words if w not in stopwords]\n",
        "    counts = Counter(words)\n",
        "    return {word: count for word, count in counts.items() if count >= min_freq}\n",
        "\n",
        "# Load data\n",
        "df = pd.read_excel(\"Constraint_English_Train_Cleaned.xlsx\")\n",
        "\n",
        "# Use sklearn stopwords\n",
        "stopwords = set(ENGLISH_STOP_WORDS)\n",
        "\n",
        "# Get frequencies\n",
        "word_freq = get_word_frequencies(df, \"clean_text\", stopwords=stopwords, min_freq=5)\n",
        "\n",
        "# Display top 100 words\n",
        "for word, count in Counter(word_freq).most_common(100):\n",
        "    print(f\"{word}: {count}\")"
      ]
    },
    {
      "cell_type": "markdown",
      "metadata": {},
      "source": [
        "# Keep scrolling to Week 8 after this..."
      ]
    },
    {
      "cell_type": "markdown",
      "metadata": {},
      "source": [
        "### 1.3 Test\n",
        "- Maybe we can do a test using longer sentences here\n"
      ]
    },
    {
      "cell_type": "markdown",
      "metadata": {
        "id": "mBZwUTFcs4hT"
      },
      "source": [
        "- **Using Regular Expressions**: Regular expressions give us the ability to search for patterns within text, strings, files, etc. They serve several uses, such as; security measures, searching, filtering, pattern recognition, and more... \\\\\n",
        "  a) `re.compile()` : using compile, pre determines the string to be used in regular expression methods. \\\\\n",
        "  b) `re.match()` :  This method attempts to match a pattern at the beginning of the string. \\\\\n",
        "  c) `re.findall` : This method returns a list of all non-overlapping matches of a pattern in the string, as a list of strings. \\\\\n",
        "  d) `re.search()` : This method scans through the string, looking for any location where the pattern matches.  \\\\"
      ]
    },
    {
      "cell_type": "code",
      "execution_count": 19,
      "metadata": {
        "colab": {
          "base_uri": "https://localhost:8080/"
        },
        "id": "Hp8tvzgAs-mn",
        "outputId": "81884bc1-795a-4b48-a986-43fe1bdab802"
      },
      "outputs": [
        {
          "name": "stdout",
          "output_type": "stream",
          "text": [
            "re.compile('CDC')\n"
          ]
        }
      ],
      "source": [
        "# add pattern abcd\n",
        "pattern = re.compile('CDC')\n",
        "print(pattern)"
      ]
    },
    {
      "cell_type": "markdown",
      "metadata": {
        "id": "NsN3fNeHtFFZ"
      },
      "source": [
        "- **Sets**: The following cells will allow you to use regular expressions to search for certain values within a range. \\\\\n",
        "  a) Integer Ranges: For example, [0-7] \\\\\n",
        "  b) Character Ranges: For exampe, [A-Z][a-z] \\\\"
      ]
    },
    {
      "cell_type": "code",
      "execution_count": null,
      "metadata": {},
      "outputs": [],
      "source": []
    },
    {
      "cell_type": "code",
      "execution_count": 20,
      "metadata": {
        "colab": {
          "base_uri": "https://localhost:8080/"
        },
        "id": "zDkaYEm4tISC",
        "outputId": "be327098-a458-46a9-95f6-cbd325884ebc"
      },
      "outputs": [
        {
          "name": "stdout",
          "output_type": "stream",
          "text": [
            "   id                                              tweet label  \\\n",
            "0   1  The CDC currently reports 99031 deaths. In gen...  real   \n",
            "1   2  States reported 1121 deaths a small rise from ...  real   \n",
            "2   3  Politically Correct Woman (Almost) Uses Pandem...  fake   \n",
            "3   4  #IndiaFightsCorona: We have 1524 #COVID testin...  real   \n",
            "4   5  Populous states can generate large case counts...  real   \n",
            "\n",
            "                                          clean_text  \n",
            "0  The CDC currently reports 99031 deaths. In gen...  \n",
            "1  States reported 1121 deaths a small rise from ...  \n",
            "2  Politically Correct Woman Almost Uses Pandemic...  \n",
            "3  #IndiaFightsCorona We have 1524 #COVID testing...  \n",
            "4  Populous states can generate large case counts...  \n"
          ]
        },
        {
          "ename": "TypeError",
          "evalue": "expected string or bytes-like object, got 'NoneType'",
          "output_type": "error",
          "traceback": [
            "\u001b[31m---------------------------------------------------------------------------\u001b[39m",
            "\u001b[31mTypeError\u001b[39m                                 Traceback (most recent call last)",
            "\u001b[36mCell\u001b[39m\u001b[36m \u001b[39m\u001b[32mIn[20]\u001b[39m\u001b[32m, line 2\u001b[39m\n\u001b[32m      1\u001b[39m \u001b[38;5;66;03m# use match() to match abcd123\u001b[39;00m\n\u001b[32m----> \u001b[39m\u001b[32m2\u001b[39m match = \u001b[43mpattern\u001b[49m\u001b[43m.\u001b[49m\u001b[43mmatch\u001b[49m\u001b[43m(\u001b[49m\u001b[38;5;28;43mprint\u001b[39;49m\u001b[43m(\u001b[49m\u001b[43mmisinfo_data\u001b[49m\u001b[43m.\u001b[49m\u001b[43mhead\u001b[49m\u001b[43m(\u001b[49m\u001b[43m)\u001b[49m\u001b[43m)\u001b[49m\u001b[43m)\u001b[49m\n\u001b[32m      3\u001b[39m \u001b[38;5;28mprint\u001b[39m(match)\n",
            "\u001b[31mTypeError\u001b[39m: expected string or bytes-like object, got 'NoneType'"
          ]
        }
      ],
      "source": [
        "# use match() to match abcd123\n",
        "match = pattern.match(print(misinfo_data.head()))\n",
        "print(match)"
      ]
    },
    {
      "cell_type": "code",
      "execution_count": null,
      "metadata": {
        "colab": {
          "base_uri": "https://localhost:8080/"
        },
        "id": "XbdwMkq6tWA_",
        "outputId": "1c0c701f-c8ba-4888-da2e-921c81e82b56"
      },
      "outputs": [
        {
          "name": "stdout",
          "output_type": "stream",
          "text": [
            "['CDC']\n"
          ]
        }
      ],
      "source": [
        "# use this pattern to find '123abcd abcd123 abcd abcabc acb'\n",
        "finders = pattern.findall('CDC')\n",
        "print(finders)"
      ]
    },
    {
      "cell_type": "code",
      "execution_count": null,
      "metadata": {
        "colab": {
          "base_uri": "https://localhost:8080/"
        },
        "id": "HrrCGW06tmGg",
        "outputId": "e9f0149d-aacc-48c5-d7e7-69061b0bb943"
      },
      "outputs": [
        {
          "name": "stdout",
          "output_type": "stream",
          "text": [
            "<re.Match object; span=(0, 3), match='CDC'>\n",
            "(0, 3)\n",
            "CDC\n"
          ]
        }
      ],
      "source": [
        "# explain the code blow\n",
        "random_string = 'CDC'\n",
        "\n",
        "search = pattern.search(random_string)\n",
        "print(search)\n",
        "span = search.span()\n",
        "print(span)\n",
        "print(random_string[span[0] : span[1]])"
      ]
    },
    {
      "cell_type": "code",
      "execution_count": null,
      "metadata": {
        "colab": {
          "base_uri": "https://localhost:8080/"
        },
        "id": "79HQHlQHudl6",
        "outputId": "eb3c555f-b68b-40d4-915d-8b254cfea61a"
      },
      "outputs": [],
      "source": [
        "# Compile a regular expression pattern [0-7][7-9][0-3] and search for this pattern in the string '67383'.\n",
        "# If a match is found, print the match object and the character at the start position of the match.\n",
        "pattern_int = re.compile('[0-7][7-9][0-3]')\n",
        "\n",
        "random_numbers = pattern_int.search('67383')\n",
        "print(random_numbers)\n",
        "span = random_numbers.span()\n",
        "print(random_numbers[span[0]])"
      ]
    },
    {
      "cell_type": "code",
      "execution_count": null,
      "metadata": {
        "colab": {
          "base_uri": "https://localhost:8080/"
        },
        "id": "sj7KTI1jufeN",
        "outputId": "67fee91c-17dd-40b5-e613-558777236e74"
      },
      "outputs": [],
      "source": [
        "# Compile a regular expression pattern [A-Z][a-z] to match any sequence of an uppercase letter followed by a lowercase letter.\n",
        "# Use the findall method to find all such sequences in the string 'Hello there Mr. Ricky' and print the list of matches\n",
        "char_pattern = re.compile('[A-Z][a-z]')\n",
        "found = char_pattern.findall('Hello there Mr. Ricky')\n",
        "print(found)"
      ]
    },
    {
      "cell_type": "markdown",
      "metadata": {
        "id": "rgjybiE0oknI"
      },
      "source": [
        "- **Counting Occurences**: The following cells will allow you to use regular expressions to search for certain values within a range. \\\\\n",
        "\n",
        "  a) `{x}` :  something that occurs {num_of_times}. \\\\\n",
        "  b) `{, x}` : {x, x} - something that occurs between x and x times  \\\\\n",
        "  c) `{?}` : something that occurs 0 or 1 time \\\\\n",
        "  d) `{*}` : * - something that occurs at least 0 times \\\\\n",
        "  e) `{+}`: + - something that occurs at least once \\\\\n",
        "\n"
      ]
    },
    {
      "cell_type": "code",
      "execution_count": null,
      "metadata": {
        "colab": {
          "base_uri": "https://localhost:8080/"
        },
        "id": "QBojwySluSV8",
        "outputId": "faba3de5-30ad-4ac5-f6d1-dfa3de9d334b"
      },
      "outputs": [],
      "source": [
        "# Compile a regular expression pattern `[A-Z][a-z][0-3]{2}` to match any sequence of an uppercase letter, a lowercase letter,\n",
        "# and two digits ranging from 0 to 3. Use the `findall` method to find all such sequences in the string `'Hello Mr. Ri03cky'` and print the list of matches.\n",
        "char_pattern_count = re.compile('[A-Z][a-z][0-3]{2}')\n",
        "found_count = char_pattern_count.findall('Hello Mr. Ri03cky')\n",
        "print(found_count)"
      ]
    },
    {
      "cell_type": "code",
      "execution_count": null,
      "metadata": {
        "colab": {
          "base_uri": "https://localhost:8080/"
        },
        "id": "hbTCAwRruxMr",
        "outputId": "b0357922-8b5d-4c4d-837f-4546edc81f2b"
      },
      "outputs": [],
      "source": [
        "# Compile a regular expression pattern m{1,5} to match any sequence of 1 to 5 consecutive 'm' characters.\n",
        "# Use the findall method to find all such sequences in the string 'This is an example of a regular expression trying to find one m,\n",
        "# more than one mmm or five mmmmms' and print the list of matches.\n",
        "random_pattern = re.compile('m{1,5}')\n",
        "random_statement = random_pattern.findall('This is an example of a regular expression trying to find one m, more than one mmm or five mmmmms')\n",
        "print(random_statement)"
      ]
    },
    {
      "cell_type": "code",
      "execution_count": null,
      "metadata": {
        "colab": {
          "base_uri": "https://localhost:8080/"
        },
        "id": "KxW4BCL8vFWF",
        "outputId": "9778f12c-84e9-40c1-9b34-3a98dc775c43"
      },
      "outputs": [],
      "source": [
        "# Compile a regular expression pattern Mrss? to match the string 'Mrs' optionally followed by an 's'.\n",
        "# Use the findall method to find all such sequences in the string 'Hello M there Mr. Anderson, Mid how is Mrs. Anderson, and Mrss. Anderson?'\n",
        "# and print the list of matches.\n",
        "pattern = re.compile('Mrss?')\n",
        "found_pat = pattern.findall('Hello M there Mr. Ricky, Mid how is Mrs. Ricky, and Mrss. Ricky?')\n",
        "print(found_pat)"
      ]
    },
    {
      "cell_type": "markdown",
      "metadata": {
        "id": "yZ7_cB__v7Yv"
      },
      "source": [
        "- **Escaping Character**:\n",
        "\n",
        "  a) `\\w` :  look for any Unicode character \\\\\n",
        "  b) `\\W` :  look for anything that isnt a Unicode character \\\\\n",
        "\n",
        "  More escaping characters please inspect : https://learn.microsoft.com/en-us/dotnet/standard/base-types/character-escapes-in-regular-expressions"
      ]
    },
    {
      "cell_type": "code",
      "execution_count": null,
      "metadata": {
        "colab": {
          "base_uri": "https://localhost:8080/"
        },
        "id": "RhVXIoqQwkdo",
        "outputId": "1569528b-14fb-49a6-acb5-ab753a34b71f"
      },
      "outputs": [],
      "source": [
        "# Compile two regular expression patterns: [\\w]+ to find sequences of word characters and\n",
        "# [\\W]+ to find sequences of non-word characters. Use the findall method to search for these patterns in the string and print the results.\n",
        "pattern_1 = re.compile('[\\w]+')\n",
        "pattern_2 = re.compile('[\\W]+')\n",
        "\n",
        "found_1 = pattern_1.findall('This is a sentence. With, exclamation mark at the end!')\n",
        "found_2 = pattern_2.findall('This is a sentence. With, exclamation mark at the end!')\n",
        "\n",
        "print(found_1)\n",
        "print(found_2)"
      ]
    },
    {
      "cell_type": "markdown",
      "metadata": {},
      "source": [
        "# Week 8 - Sentiment Analysis"
      ]
    },
    {
      "cell_type": "code",
      "execution_count": null,
      "metadata": {},
      "outputs": [
        {
          "name": "stdout",
          "output_type": "stream",
          "text": [
            "Validation Results:\n",
            "              precision    recall  f1-score   support\n",
            "\n",
            "           0       0.87      0.95      0.91      1020\n",
            "           1       0.95      0.87      0.91      1120\n",
            "\n",
            "    accuracy                           0.91      2140\n",
            "   macro avg       0.91      0.91      0.91      2140\n",
            "weighted avg       0.91      0.91      0.91      2140\n",
            "\n",
            "Test Results:\n",
            "              precision    recall  f1-score   support\n",
            "\n",
            "           0       0.86      0.95      0.90      1020\n",
            "           1       0.95      0.86      0.90      1120\n",
            "\n",
            "    accuracy                           0.90      2140\n",
            "   macro avg       0.90      0.90      0.90      2140\n",
            "weighted avg       0.91      0.90      0.90      2140\n",
            "\n",
            "KNN Validation Results:\n",
            "              precision    recall  f1-score   support\n",
            "\n",
            "           0       0.81      0.96      0.88      1020\n",
            "           1       0.95      0.79      0.86      1120\n",
            "\n",
            "    accuracy                           0.87      2140\n",
            "   macro avg       0.88      0.87      0.87      2140\n",
            "weighted avg       0.88      0.87      0.87      2140\n",
            "\n",
            "KNN Test Results:\n",
            "              precision    recall  f1-score   support\n",
            "\n",
            "           0       0.80      0.96      0.87      1020\n",
            "           1       0.95      0.78      0.86      1120\n",
            "\n",
            "    accuracy                           0.86      2140\n",
            "   macro avg       0.88      0.87      0.86      2140\n",
            "weighted avg       0.88      0.86      0.86      2140\n",
            "\n",
            "Training size: 6420\n",
            "Validation size: 2140\n",
            "Test size: 2140\n",
            "Logistic Regression Test Accuracy: 0.9023364485981309\n",
            "Logistic Regression Test F1 Score: 0.9024731684554363\n"
          ]
        },
        {
          "data": {
            "image/png": "[encoded data removed]",
            "text/plain": [
              "<Figure size 640x480 with 2 Axes>"
            ]
          },
          "metadata": {},
          "output_type": "display_data"
        }
      ],
      "source": [
        "import pandas as pd\n",
        "from sklearn.feature_extraction.text import TfidfVectorizer\n",
        "from sklearn.linear_model import LogisticRegression\n",
        "from sklearn.neighbors import KNeighborsClassifier\n",
        "from sklearn.metrics import classification_report, accuracy_score, f1_score, confusion_matrix\n",
        "import seaborn as sns\n",
        "import matplotlib.pyplot as plt\n",
        "\n",
        "# === 1. Load datasets ===\n",
        "train_df = pd.read_excel(\"Constraint_English_Train_Cleaned.xlsx\")\n",
        "val_df = pd.read_excel(\"Constraint_English_Val .xlsx\")\n",
        "test_df = pd.read_excel(\"Constraint_English_Test.xlsx\")\n",
        "\n",
        "X_train = train_df['clean_text']\n",
        "y_train = train_df['label'].map({'real': 1, 'fake': 0})\n",
        "\n",
        "X_val = val_df['tweet'] # NEED TO CLEAN\n",
        "y_val = val_df['label'].map({'real': 1, 'fake': 0})\n",
        "\n",
        "X_test = test_df['tweet'] # NEED TO CLEAN\n",
        "y_test = test_df['label'].map({'real': 1, 'fake': 0})\n",
        "\n",
        "# === 2. TF-IDF vectorization ===\n",
        "vectorizer = TfidfVectorizer(ngram_range=(1,2), max_features=5000)\n",
        "X_train_vec = vectorizer.fit_transform(X_train)  # Learn vocabulary from train set\n",
        "X_val_vec = vectorizer.transform(X_val)          # Use the same vocabulary\n",
        "X_test_vec = vectorizer.transform(X_test)\n",
        "\n",
        "# === 3. Train Logistic Regression ===\n",
        "log_reg = LogisticRegression(max_iter=1000, random_state=42)\n",
        "log_reg.fit(X_train_vec, y_train)\n",
        "\n",
        "# === 4. Validate model ===\n",
        "y_val_pred = log_reg.predict(X_val_vec)\n",
        "print(\"Validation Results:\")\n",
        "print(classification_report(y_val, y_val_pred))\n",
        "\n",
        "# === 5. Test model ===\n",
        "y_test_pred = log_reg.predict(X_test_vec)\n",
        "print(\"Test Results:\")\n",
        "print(classification_report(y_test, y_test_pred))\n",
        "\n",
        "# === 6. Optional: KNN ===\n",
        "knn = KNeighborsClassifier(n_neighbors=5)\n",
        "knn.fit(X_train_vec, y_train)\n",
        "\n",
        "y_val_pred_knn = knn.predict(X_val_vec)\n",
        "print(\"KNN Validation Results:\")\n",
        "print(classification_report(y_val, y_val_pred_knn))\n",
        "\n",
        "y_test_pred_knn = knn.predict(X_test_vec)\n",
        "print(\"KNN Test Results:\")\n",
        "print(classification_report(y_test, y_test_pred_knn))\n",
        "\n",
        "# === 7. Metrics and Confusion Matrix ===\n",
        "# print(f\"Training size: {len(X_train)}\")\n",
        "# print(f\"Validation size: {len(X_val)}\")\n",
        "# print(f\"Test size: {len(X_test)}\")\n",
        "# print(f\"Classes in training set:\\n{y_train.value_counts()}\")\n",
        "# print(f\"Classes in validation set:\\n{y_val.value_counts()}\")\n",
        "# print(f\"Classes in test set:\\n{y_test.value_counts()}\")\n",
        "\n",
        "print(\"Logistic Regression Test Accuracy:\", accuracy_score(y_test, y_test_pred))\n",
        "print(\"Logistic Regression Test F1 Score:\", f1_score(y_test, y_test_pred))\n",
        "\n",
        "cm = confusion_matrix(y_test, y_test_pred)\n",
        "sns.heatmap(cm, annot=True, fmt=\"d\", cmap=\"Blues\")\n",
        "plt.xlabel(\"Predicted\")\n",
        "plt.ylabel(\"Actual\")\n",
        "plt.title(\"Confusion Matrix - Logistic Regression\")\n",
        "plt.show()"
      ]
    },
    {
      "cell_type": "markdown",
      "metadata": {},
      "source": [
        "# Word frequency filtering + Sentiment Analysis"
      ]
    },
    {
      "cell_type": "markdown",
      "metadata": {},
      "source": [
        "## Need to clean and preprocess test and val datasets\n",
        "## "
      ]
    },
    {
      "cell_type": "code",
      "execution_count": 27,
      "metadata": {},
      "outputs": [
        {
          "name": "stdout",
          "output_type": "stream",
          "text": [
            "Validation Results:\n",
            "              precision    recall  f1-score   support\n",
            "\n",
            "           0       0.90      0.90      0.90      1020\n",
            "           1       0.91      0.91      0.91      1120\n",
            "\n",
            "    accuracy                           0.91      2140\n",
            "   macro avg       0.91      0.91      0.91      2140\n",
            "weighted avg       0.91      0.91      0.91      2140\n",
            "\n",
            "Test Results:\n",
            "              precision    recall  f1-score   support\n",
            "\n",
            "           0       0.91      0.91      0.91      1020\n",
            "           1       0.92      0.92      0.92      1120\n",
            "\n",
            "    accuracy                           0.91      2140\n",
            "   macro avg       0.91      0.91      0.91      2140\n",
            "weighted avg       0.91      0.91      0.91      2140\n",
            "\n",
            "KNN Validation Results:\n",
            "              precision    recall  f1-score   support\n",
            "\n",
            "           0       0.56      1.00      0.72      1020\n",
            "           1       0.99      0.30      0.46      1120\n",
            "\n",
            "    accuracy                           0.63      2140\n",
            "   macro avg       0.78      0.65      0.59      2140\n",
            "weighted avg       0.79      0.63      0.58      2140\n",
            "\n",
            "KNN Test Results:\n",
            "              precision    recall  f1-score   support\n",
            "\n",
            "           0       0.56      1.00      0.71      1020\n",
            "           1       0.99      0.28      0.43      1120\n",
            "\n",
            "    accuracy                           0.62      2140\n",
            "   macro avg       0.77      0.64      0.57      2140\n",
            "weighted avg       0.78      0.62      0.57      2140\n",
            "\n",
            "Logistic Regression Test Accuracy: 0.9126168224299065\n",
            "Logistic Regression Test F1 Score: 0.9164805716837874\n"
          ]
        },
        {
          "data": {
            "image/png": "[encoded data removed]",
            "text/plain": [
              "<Figure size 640x480 with 2 Axes>"
            ]
          },
          "metadata": {},
          "output_type": "display_data"
        },
        {
          "name": "stdout",
          "output_type": "stream",
          "text": [
            "Example bigrams learned by the vectorizer:\n",
            "['04 2020', '0800 confirmed', '0930 pm', '10 days', '10 lakh', '10 million', '10 seconds', '10 statesuts', '100 people', '1000 deaths', '10000 cases', '100000 people', '1000190000 confirmed', '11 people', '110000 confirmed', '115000 confirmed', '1154 number', '13 states', '14 days', '1481 case', '15 days', '15 minutes', '15 states', '1504 number', '16 indiafightscorona', '16 significant', '17 indiafightscorona', '18 indiafightscorona', '19 fct', '20 million', '20 oyo', '2020 0800', '2020 indiafightscorona', '2020 september', '2020 states', '2020 staysafe', '2020 steady', '20s arrived', '22 active', '23 lakh', '24 hours', '24 hrs', '25 2020', '28 days', '2pm et', '39 imported', '43 lakh', '48 hours', '50 states', '60 total']\n",
            "Top TF-IDF bigrams in example post:\n",
            "100000 people: 0.2991\n",
            "death toll: 0.2400\n",
            "04 2020: 0.0000\n"
          ]
        }
      ],
      "source": [
        "import pandas as pd\n",
        "from sklearn.feature_extraction.text import TfidfVectorizer, ENGLISH_STOP_WORDS\n",
        "from sklearn.linear_model import LogisticRegression\n",
        "from sklearn.neighbors import KNeighborsClassifier\n",
        "from sklearn.metrics import classification_report, accuracy_score, f1_score, confusion_matrix\n",
        "import seaborn as sns\n",
        "import matplotlib.pyplot as plt\n",
        "import re\n",
        "\n",
        "# === 1. Text cleaning function ===\n",
        "def clean_text(text):\n",
        "    text = str(text).lower()\n",
        "    text = re.sub(r'\\bus\\b', 'US', text, flags=re.IGNORECASE)  # Keep 'US'\n",
        "    text = re.sub(r'[^\\w\\s]', '', text)  # Remove punctuation\n",
        "    return text.strip()\n",
        "\n",
        "# === 2. Load datasets ===\n",
        "train_df = pd.read_excel(\"Constraint_English_Train_Cleaned.xlsx\")\n",
        "val_df = pd.read_excel(\"Constraint_English_Val .xlsx\")\n",
        "test_df = pd.read_excel(\"Constraint_English_Test.xlsx\")\n",
        "\n",
        "# Clean text\n",
        "train_df['clean_text'] = train_df['tweet'].apply(clean_text)\n",
        "val_df['clean_text'] = val_df['tweet'].apply(clean_text)\n",
        "test_df['clean_text'] = test_df['tweet'].apply(clean_text)\n",
        "\n",
        "# Labels\n",
        "y_train = train_df['label'].map({'real': 1, 'fake': 0})\n",
        "y_val = val_df['label'].map({'real': 1, 'fake': 0})\n",
        "y_test = test_df['label'].map({'real': 1, 'fake': 0})\n",
        "\n",
        "# === 3. TF-IDF vectorization with improvements ===\n",
        "stopwords = list(ENGLISH_STOP_WORDS)\n",
        "vectorizer = TfidfVectorizer(\n",
        "    ngram_range=(1, 2),      # Include unigrams and bigrams\n",
        "    max_features=5000,       # Limit vocabulary size\n",
        "    min_df=5,                # Minimum document frequency\n",
        "    max_df=0.9,              # Remove very common words\n",
        "    stop_words=stopwords  # Automated stopword removal\n",
        ")\n",
        "\n",
        "# Fit vectorizer on training data\n",
        "X_train_vec = vectorizer.fit_transform(train_df['clean_text'])\n",
        "X_val_vec = vectorizer.transform(val_df['clean_text'])\n",
        "X_test_vec = vectorizer.transform(test_df['clean_text'])\n",
        "\n",
        "# === 4. Train Logistic Regression ===\n",
        "log_reg = LogisticRegression(max_iter=1000, random_state=42)\n",
        "log_reg.fit(X_train_vec, y_train)\n",
        "\n",
        "# === 5. Validate model ===\n",
        "y_val_pred = log_reg.predict(X_val_vec)\n",
        "print(\"Validation Results:\")\n",
        "print(classification_report(y_val, y_val_pred))\n",
        "\n",
        "# === 6. Test model ===\n",
        "y_test_pred = log_reg.predict(X_test_vec)\n",
        "print(\"Test Results:\")\n",
        "print(classification_report(y_test, y_test_pred))\n",
        "\n",
        "# === 7. Optional: KNN ===\n",
        "knn = KNeighborsClassifier(n_neighbors=5)\n",
        "knn.fit(X_train_vec, y_train)\n",
        "\n",
        "y_val_pred_knn = knn.predict(X_val_vec)\n",
        "print(\"KNN Validation Results:\")\n",
        "print(classification_report(y_val, y_val_pred_knn))\n",
        "\n",
        "y_test_pred_knn = knn.predict(X_test_vec)\n",
        "print(\"KNN Test Results:\")\n",
        "print(classification_report(y_test, y_test_pred_knn))\n",
        "\n",
        "# === 8. Metrics and Confusion Matrix ===\n",
        "print(\"Logistic Regression Test Accuracy:\", accuracy_score(y_test, y_test_pred))\n",
        "print(\"Logistic Regression Test F1 Score:\", f1_score(y_test, y_test_pred))\n",
        "\n",
        "cm = confusion_matrix(y_test, y_test_pred)\n",
        "sns.heatmap(cm, annot=True, fmt=\"d\", cmap=\"Blues\")\n",
        "plt.xlabel(\"Predicted\")\n",
        "plt.ylabel(\"Actual\")\n",
        "plt.title(\"Confusion Matrix - Logistic Regression\")\n",
        "plt.show()\n",
        "\n",
        "\n",
        "# === Bigrams produces\n",
        "# Assuming vectorizer is already fitted\n",
        "feature_names = vectorizer.get_feature_names_out()\n",
        "\n",
        "# Filter for bigrams only (two words)\n",
        "bigrams = [f for f in feature_names if len(f.split()) == 2]\n",
        "\n",
        "print(\"Example bigrams learned by the vectorizer:\")\n",
        "print(bigrams[:50])  # show first 50 bigrams\n",
        "\n",
        "# == Bigrams TF-IDF values\n",
        "import numpy as np\n",
        "\n",
        "# Transform a single example\n",
        "example_vec = vectorizer.transform([X_train.iloc[0]])  \n",
        "\n",
        "# Get feature names and scores\n",
        "scores = zip(feature_names, example_vec.toarray()[0])\n",
        "\n",
        "# Sort by score descending\n",
        "sorted_scores = sorted(scores, key=lambda x: x[1], reverse=True)\n",
        "\n",
        "print(\"Top TF-IDF bigrams in example post:\")\n",
        "for term, score in sorted_scores[:20]:\n",
        "    if len(term.split()) == 2:\n",
        "        print(f\"{term}: {score:.4f}\")\n"
      ]
    }
  ],
  "metadata": {
    "colab": {
      "provenance": []
    },
    "kernelspec": {
      "display_name": "ctip",
      "language": "python",
      "name": "python3"
    },
    "language_info": {
      "codemirror_mode": {
        "name": "ipython",
        "version": 3
      },
      "file_extension": ".py",
      "mimetype": "text/x-python",
      "name": "python",
      "nbconvert_exporter": "python",
      "pygments_lexer": "ipython3",
      "version": "3.13.7"
    }
  },
  "nbformat": 4,
  "nbformat_minor": 0
}

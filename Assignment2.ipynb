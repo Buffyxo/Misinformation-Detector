{
  "cells": [
    {
      "cell_type": "markdown",
      "metadata": {
        "id": "4sKEV-sUostG"
      },
      "source": [
        "\n",
        "# COS30049 - Assignment 2\n",
        "### Session 26 Group 2\n",
        "### Swinburne Univeristy of Technology"
      ]
    },
    {
      "cell_type": "markdown",
      "metadata": {
        "id": "vQ_ybMeNrJ2Q"
      },
      "source": [
        "## Objective\n",
        "- insert project objective\n"
      ]
    },
    {
      "cell_type": "markdown",
      "metadata": {
        "id": "JmHHRYS4tHnC"
      },
      "source": [
        "### 1.1 Test if the ML reads the file\n",
        "\n",
        "We have a dataset named `Constraint_English_Train.xlsx`. We use pd.read_excel() to read the file, and .head() to retrieve the first 5 data from the set."
      ]
    },
    {
      "cell_type": "code",
      "execution_count": 3,
      "metadata": {
        "colab": {
          "base_uri": "https://localhost:8080/"
        },
        "id": "-6GQq6kWtK_O",
        "outputId": "65e816e8-e5a6-4811-9ba6-59cd80e90be3"
      },
      "outputs": [
        {
          "name": "stdout",
          "output_type": "stream",
          "text": [
            "   id                                              tweet label\n",
            "0   1  The CDC currently reports 99031 deaths. In gen...  real\n",
            "1   2  States reported 1121 deaths a small rise from ...  real\n",
            "2   3  Politically Correct Woman (Almost) Uses Pandem...  fake\n",
            "3   4  #IndiaFightsCorona: We have 1524 #COVID testin...  real\n",
            "4   5  Populous states can generate large case counts...  real\n"
          ]
        }
      ],
      "source": [
        "import pandas as pd\n",
        "\n",
        "# Load dataset\n",
        "file_path = \"Constraint_English_Train.xlsx\"\n",
        "misinfo_data = pd.read_excel(file_path)\n",
        "\n",
        "# Preview first few rows\n",
        "print(misinfo_data.head())"
      ]
    },
    {
      "cell_type": "markdown",
      "metadata": {
        "id": "Wd-KHrIwwqL8"
      },
      "source": [
        "### 1.2 Test that the ML can retrieve data from set that contains input\n",
        "- using `import` re\n",
        "- We use .compile() for a pattern we want to find from the data set containing \"CDC\".\n",
        "\n"
      ]
    },
    {
      "cell_type": "code",
      "execution_count": 17,
      "metadata": {
        "id": "KU_bg_acs0-G"
      },
      "outputs": [
        {
          "name": "stdout",
          "output_type": "stream",
          "text": [
            "Rows containing 'CDC':\n",
            "        id                                              tweet label\n",
            "0        1  The CDC currently reports 99031 deaths. In gen...  real\n",
            "6        7  If you tested positive for #COVID19 and have n...  real\n",
            "27      28  Just Appendix B gathering all the state orders...  real\n",
            "33      34  CDC Recommends Mothers Stop Breastfeeding To B...  fake\n",
            "138    139  Youth sports organizations: As you resume acti...  real\n",
            "...    ...                                                ...   ...\n",
            "6338  6339  ???The CDC can detain anyone with a fever ??\" ...  fake\n",
            "6345  6346  1645 deaths were reported today bringing the t...  real\n",
            "6377  6378  Acc to @CDCgov &amp; @WHO there is currently n...  real\n",
            "6391  6392  The CDC ???adjusted the US Covid deaths from 1...  fake\n",
            "6405  6406  The cloth face coverings recommended to slow s...  real\n",
            "\n",
            "[281 rows x 3 columns]\n"
          ]
        },
        {
          "name": "stderr",
          "output_type": "stream",
          "text": [
            "/var/folders/w0/r8xr9pyn4w19x3x9z5x82hm00000gn/T/ipykernel_87196/3022997758.py:17: FutureWarning: DataFrame.applymap has been deprecated. Use DataFrame.map instead.\n",
            "  matches = misinfo_data.applymap(lambda x: bool(pattern.search(str(x))))\n"
          ]
        }
      ],
      "source": [
        "import pandas as pd\n",
        "import re\n",
        "\n",
        "file_path = \"Constraint_English_Train.xlsx\"\n",
        "misinfo_data = pd.read_excel(file_path)\n",
        "\n",
        "# Compile the regex pattern\n",
        "pattern = re.compile(r'CDC', re.IGNORECASE)  # ignore case if needed\n",
        "\n",
        "# Example: check in a specific column, e.g., 'text'\n",
        "if 'text' in misinfo_data.columns:\n",
        "    matches = misinfo_data['text'].apply(lambda x: bool(pattern.search(str(x))))\n",
        "    print(\"Rows containing 'CDC':\")\n",
        "    print(misinfo_data[matches])\n",
        "else:\n",
        "    # If you want to search all columns\n",
        "    matches = misinfo_data.applymap(lambda x: bool(pattern.search(str(x))))\n",
        "    print(\"Rows containing 'CDC':\")\n",
        "    print(misinfo_data[matches.any(axis=1)])"
      ]
    },
    {
      "cell_type": "markdown",
      "metadata": {},
      "source": [
        "# Test emoji detection"
      ]
    },
    {
      "cell_type": "code",
      "execution_count": 5,
      "metadata": {},
      "outputs": [
        {
          "name": "stdout",
          "output_type": "stream",
          "text": [
            "                 text  has_emoji\n",
            "0         Hello world      False\n",
            "1          Hi there 😀       True\n",
            "2  @user_name is cool      False\n",
            "3     No emojis here!       True\n"
          ]
        }
      ],
      "source": [
        "import pandas as pd\n",
        "import re\n",
        "\n",
        "df = pd.DataFrame({\n",
        "    'text': [\"Hello world\", \"Hi there 😀\", \"@user_name is cool\", \"No emojis here!\"]\n",
        "})\n",
        "\n",
        "pattern = re.compile(r'[^\\w\\s@]', flags=re.UNICODE)\n",
        "df['has_emoji'] = df['text'].apply(lambda x: bool(pattern.search(str(x))))\n",
        "\n",
        "print(df)"
      ]
    },
    {
      "cell_type": "code",
      "execution_count": null,
      "metadata": {},
      "outputs": [],
      "source": []
    },
    {
      "cell_type": "markdown",
      "metadata": {},
      "source": [
        "# Test emoji refining"
      ]
    },
    {
      "cell_type": "code",
      "execution_count": 33,
      "metadata": {},
      "outputs": [
        {
          "name": "stderr",
          "output_type": "stream",
          "text": [
            "/opt/anaconda3/envs/ctip/lib/python3.13/site-packages/openpyxl/styles/stylesheet.py:237: UserWarning: Workbook contains no default style, apply openpyxl's default\n",
            "  warn(\"Workbook contains no default style, apply openpyxl's default\")\n"
          ]
        },
        {
          "name": "stdout",
          "output_type": "stream",
          "text": [
            "                                                  tweet  \\\n",
            "0     The CDC currently reports 99031 deaths. In gen...   \n",
            "1     States reported 1121 deaths a small rise from ...   \n",
            "2     Politically Correct Woman (Almost) Uses Pandem...   \n",
            "3     #IndiaFightsCorona: We have 1524 #COVID testin...   \n",
            "4     Populous states can generate large case counts...   \n",
            "...                                                 ...   \n",
            "6415  A tiger tested positive for COVID-19 please st...   \n",
            "6416  Autopsies prove that COVID-19 is a blood clot,...   \n",
            "6417  _A post claims a COVID-19 vaccine has already ...   \n",
            "6418  Aamir Khan Donate 250 Cr. In PM Relief Cares Fund   \n",
            "6419  It has been 93 days since the last case of COV...   \n",
            "\n",
            "                                             clean_text  \n",
            "0     The CDC currently reports 99031 deaths. In gen...  \n",
            "1     States reported 1121 deaths a small rise from ...  \n",
            "2     Politically Correct Woman Almost Uses Pandemic...  \n",
            "3     #IndiaFightsCorona We have 1524 #COVID testing...  \n",
            "4     Populous states can generate large case counts...  \n",
            "...                                                 ...  \n",
            "6415  A tiger tested positive for COVID19 please sta...  \n",
            "6416  Autopsies prove that COVID19 is a blood clot, ...  \n",
            "6417  A post claims a COVID19 vaccine has already be...  \n",
            "6418  Aamir Khan Donate 250 Cr. In PM Relief Cares Fund  \n",
            "6419  It has been 93 days since the last case of COV...  \n",
            "\n",
            "[6420 rows x 2 columns]\n"
          ]
        }
      ],
      "source": [
        "import pandas as pd\n",
        "import re\n",
        "\n",
        "file_path = \"Constraint_English_Train_GR.xlsx\"\n",
        "misinfo_data = pd.read_excel(file_path)\n",
        "df = pd.DataFrame(misinfo_data)\n",
        "\n",
        "# Step 1: Clean text safely\n",
        "def clean_text(text):\n",
        "    text = str(text)\n",
        "    \n",
        "    # Step 1a: Protect @usernames and #hashtags\n",
        "    placeholders = {}\n",
        "    for match in re.findall(r'(@\\w+|#\\w+)', text):\n",
        "        ph = f\"PLACEHOLDER{len(placeholders)}\"\n",
        "        placeholders[ph] = match\n",
        "        text = text.replace(match, ph)\n",
        "    \n",
        "    # Step 1b: Replace all underscores with spaces\n",
        "    text = text.replace('_', ' ')\n",
        "    \n",
        "    # Step 1c: Remove emojis / unusual symbols\n",
        "    # Keep letters, numbers, whitespace, @, #, ., ,, !, ?\n",
        "    text = re.sub(r'[^\\w\\s@.,!?#]', '', text, flags=re.UNICODE)\n",
        "    \n",
        "    # Step 1d: Remove leading punctuation (like . , ! ?) at start of text\n",
        "    text = re.sub(r'^[.,!?\\s]+', '', text)\n",
        "    \n",
        "    # Step 1e: Restore usernames and hashtags\n",
        "    for ph, original in placeholders.items():\n",
        "        text = text.replace(ph, original)\n",
        "    \n",
        "    return text\n",
        "\n",
        "# Apply cleaning function to the 'tweet' column\n",
        "df['clean_text'] = df['tweet'].apply(clean_text)\n",
        "\n",
        "# Optional: preview result\n",
        "print(df[['tweet', 'clean_text']])\n",
        "\n",
        "# Save cleaned file\n",
        "df.to_excel(\"Constraint_English_Train_Cleaned.xlsx\", index=False)"
      ]
    },
    {
      "cell_type": "markdown",
      "metadata": {},
      "source": [
        "# Test Frequency of Words"
      ]
    },
    {
      "cell_type": "code",
      "execution_count": 44,
      "metadata": {},
      "outputs": [
        {
          "name": "stdout",
          "output_type": "stream",
          "text": [
            "Top 20 words in dataset:\n",
            "covid19: 6307\n",
            "cases: 3444\n",
            "coronavirus: 3250\n",
            "people: 1489\n",
            "tests: 1393\n",
            "deaths: 1290\n",
            "states: 1156\n",
            "confirmed: 1030\n",
            "reported: 956\n",
            "testing: 934\n",
            "covid: 886\n",
            "health: 842\n",
            "india: 820\n",
            "state: 694\n",
            "report: 668\n",
            "indiafightscorona: 640\n",
            "virus: 619\n",
            "pandemic: 616\n",
            "case: 594\n",
            "patients: 587\n"
          ]
        }
      ],
      "source": [
        "import pandas as pd\n",
        "import re\n",
        "from collections import Counter\n",
        "\n",
        "# Load the dataset\n",
        "file_path = \"Constraint_English_Train_Cleaned.xlsx\"\n",
        "misinfo_data = pd.read_excel(file_path)\n",
        "\n",
        "# Combine all text into a single string\n",
        "text_data = \"\"\n",
        "\n",
        "# If there's a 'text' column, use that; otherwise, use all text-like columns\n",
        "if 'text' in misinfo_data.columns:\n",
        "    text_data = \" \".join(misinfo_data['text'].astype(str))\n",
        "else:\n",
        "    # concatenate all string columns\n",
        "    text_data = \" \".join(misinfo_data.astype(str).agg(' '.join, axis=1))\n",
        "    \n",
        "\n",
        "# Preprocess text: lowercase, remove punctuation (optional)\n",
        "text_data = text_data.lower()\n",
        "# Replace country mentions of \"us\" with \"US\"\n",
        "# This regex tries to match 'us' as a standalone word, not part of another word\n",
        "text_data = re.sub(r'\\bus\\b', 'US', text_data, flags=re.IGNORECASE)\n",
        "text_data = re.sub(r'[^\\w\\s]', '', text_data)  # remove punctuation\n",
        "\n",
        "# Split into words\n",
        "words = text_data.split()\n",
        "\n",
        "# Define stopwords and words to remove\n",
        "stopwords = set([\n",
        "    'the', 'and', 'is', 'in', 'it', 'of', 'to', 'a', 'for', 'on', \n",
        "    'with', 'as', 'by', 'at', 'an', 'be', 'this', 'that', 'from', 'or',\n",
        "    'there', 'about',\n",
        "    # Helpful verbs / prepositions\n",
        "    'are', 'were', 'was', 'have', 'has', 'had', 'do', 'does', 'did', 'can', 'could', 'should',\n",
        "    'i', 'you', 'he', 'she', 'they', 'we', 'them', 'him', 'her', 'its', 'my', 'your', 'our',\n",
        "    'will', 'been',\n",
        "    # Specific words to ignore\n",
        "    'real', 'fake',\n",
        "    # Pronoun / Noun / Adjective\n",
        "    'there', 'not', 'who', 'number', 'total', 'all', 'no', 'new', 'today', 'up', 'one', \n",
        "    # Conjunction\n",
        "    'than', 'more', 'now', 'but', 'if', 'which'\n",
        "])\n",
        "\n",
        "# Filter out stopwords\n",
        "words = [w for w in words if w not in stopwords]\n",
        "\n",
        "# Count word frequencies\n",
        "word_counts = Counter(words)\n",
        "\n",
        "# Show the top 20 most common words\n",
        "print(\"Top 20 words in dataset:\")\n",
        "for word, count in word_counts.most_common(20):\n",
        "    print(f\"{word}: {count}\")"
      ]
    },
    {
      "cell_type": "markdown",
      "metadata": {},
      "source": [
        "### 1.3 Test\n",
        "- Maybe we can do a test using longer sentences here\n"
      ]
    },
    {
      "cell_type": "markdown",
      "metadata": {
        "id": "mBZwUTFcs4hT"
      },
      "source": [
        "- **Using Regular Expressions**: Regular expressions give us the ability to search for patterns within text, strings, files, etc. They serve several uses, such as; security measures, searching, filtering, pattern recognition, and more... \\\\\n",
        "  a) `re.compile()` : using compile, pre determines the string to be used in regular expression methods. \\\\\n",
        "  b) `re.match()` :  This method attempts to match a pattern at the beginning of the string. \\\\\n",
        "  c) `re.findall` : This method returns a list of all non-overlapping matches of a pattern in the string, as a list of strings. \\\\\n",
        "  d) `re.search()` : This method scans through the string, looking for any location where the pattern matches.  \\\\"
      ]
    },
    {
      "cell_type": "code",
      "execution_count": 19,
      "metadata": {
        "colab": {
          "base_uri": "https://localhost:8080/"
        },
        "id": "Hp8tvzgAs-mn",
        "outputId": "81884bc1-795a-4b48-a986-43fe1bdab802"
      },
      "outputs": [
        {
          "name": "stdout",
          "output_type": "stream",
          "text": [
            "re.compile('CDC')\n"
          ]
        }
      ],
      "source": [
        "# add pattern abcd\n",
        "pattern = re.compile('CDC')\n",
        "print(pattern)"
      ]
    },
    {
      "cell_type": "markdown",
      "metadata": {
        "id": "NsN3fNeHtFFZ"
      },
      "source": [
        "- **Sets**: The following cells will allow you to use regular expressions to search for certain values within a range. \\\\\n",
        "  a) Integer Ranges: For example, [0-7] \\\\\n",
        "  b) Character Ranges: For exampe, [A-Z][a-z] \\\\"
      ]
    },
    {
      "cell_type": "code",
      "execution_count": null,
      "metadata": {},
      "outputs": [],
      "source": []
    },
    {
      "cell_type": "code",
      "execution_count": 20,
      "metadata": {
        "colab": {
          "base_uri": "https://localhost:8080/"
        },
        "id": "zDkaYEm4tISC",
        "outputId": "be327098-a458-46a9-95f6-cbd325884ebc"
      },
      "outputs": [
        {
          "name": "stdout",
          "output_type": "stream",
          "text": [
            "   id                                              tweet label  \\\n",
            "0   1  The CDC currently reports 99031 deaths. In gen...  real   \n",
            "1   2  States reported 1121 deaths a small rise from ...  real   \n",
            "2   3  Politically Correct Woman (Almost) Uses Pandem...  fake   \n",
            "3   4  #IndiaFightsCorona: We have 1524 #COVID testin...  real   \n",
            "4   5  Populous states can generate large case counts...  real   \n",
            "\n",
            "                                          clean_text  \n",
            "0  The CDC currently reports 99031 deaths. In gen...  \n",
            "1  States reported 1121 deaths a small rise from ...  \n",
            "2  Politically Correct Woman Almost Uses Pandemic...  \n",
            "3  #IndiaFightsCorona We have 1524 #COVID testing...  \n",
            "4  Populous states can generate large case counts...  \n"
          ]
        },
        {
          "ename": "TypeError",
          "evalue": "expected string or bytes-like object, got 'NoneType'",
          "output_type": "error",
          "traceback": [
            "\u001b[31m---------------------------------------------------------------------------\u001b[39m",
            "\u001b[31mTypeError\u001b[39m                                 Traceback (most recent call last)",
            "\u001b[36mCell\u001b[39m\u001b[36m \u001b[39m\u001b[32mIn[20]\u001b[39m\u001b[32m, line 2\u001b[39m\n\u001b[32m      1\u001b[39m \u001b[38;5;66;03m# use match() to match abcd123\u001b[39;00m\n\u001b[32m----> \u001b[39m\u001b[32m2\u001b[39m match = \u001b[43mpattern\u001b[49m\u001b[43m.\u001b[49m\u001b[43mmatch\u001b[49m\u001b[43m(\u001b[49m\u001b[38;5;28;43mprint\u001b[39;49m\u001b[43m(\u001b[49m\u001b[43mmisinfo_data\u001b[49m\u001b[43m.\u001b[49m\u001b[43mhead\u001b[49m\u001b[43m(\u001b[49m\u001b[43m)\u001b[49m\u001b[43m)\u001b[49m\u001b[43m)\u001b[49m\n\u001b[32m      3\u001b[39m \u001b[38;5;28mprint\u001b[39m(match)\n",
            "\u001b[31mTypeError\u001b[39m: expected string or bytes-like object, got 'NoneType'"
          ]
        }
      ],
      "source": [
        "# use match() to match abcd123\n",
        "match = pattern.match(print(misinfo_data.head()))\n",
        "print(match)"
      ]
    },
    {
      "cell_type": "code",
      "execution_count": null,
      "metadata": {
        "colab": {
          "base_uri": "https://localhost:8080/"
        },
        "id": "XbdwMkq6tWA_",
        "outputId": "1c0c701f-c8ba-4888-da2e-921c81e82b56"
      },
      "outputs": [
        {
          "name": "stdout",
          "output_type": "stream",
          "text": [
            "['CDC']\n"
          ]
        }
      ],
      "source": [
        "# use this pattern to find '123abcd abcd123 abcd abcabc acb'\n",
        "finders = pattern.findall('CDC')\n",
        "print(finders)"
      ]
    },
    {
      "cell_type": "code",
      "execution_count": null,
      "metadata": {
        "colab": {
          "base_uri": "https://localhost:8080/"
        },
        "id": "HrrCGW06tmGg",
        "outputId": "e9f0149d-aacc-48c5-d7e7-69061b0bb943"
      },
      "outputs": [
        {
          "name": "stdout",
          "output_type": "stream",
          "text": [
            "<re.Match object; span=(0, 3), match='CDC'>\n",
            "(0, 3)\n",
            "CDC\n"
          ]
        }
      ],
      "source": [
        "# explain the code blow\n",
        "random_string = 'CDC'\n",
        "\n",
        "search = pattern.search(random_string)\n",
        "print(search)\n",
        "span = search.span()\n",
        "print(span)\n",
        "print(random_string[span[0] : span[1]])"
      ]
    },
    {
      "cell_type": "code",
      "execution_count": null,
      "metadata": {
        "colab": {
          "base_uri": "https://localhost:8080/"
        },
        "id": "79HQHlQHudl6",
        "outputId": "eb3c555f-b68b-40d4-915d-8b254cfea61a"
      },
      "outputs": [],
      "source": [
        "# Compile a regular expression pattern [0-7][7-9][0-3] and search for this pattern in the string '67383'.\n",
        "# If a match is found, print the match object and the character at the start position of the match.\n",
        "pattern_int = re.compile('[0-7][7-9][0-3]')\n",
        "\n",
        "random_numbers = pattern_int.search('67383')\n",
        "print(random_numbers)\n",
        "span = random_numbers.span()\n",
        "print(random_numbers[span[0]])"
      ]
    },
    {
      "cell_type": "code",
      "execution_count": null,
      "metadata": {
        "colab": {
          "base_uri": "https://localhost:8080/"
        },
        "id": "sj7KTI1jufeN",
        "outputId": "67fee91c-17dd-40b5-e613-558777236e74"
      },
      "outputs": [],
      "source": [
        "# Compile a regular expression pattern [A-Z][a-z] to match any sequence of an uppercase letter followed by a lowercase letter.\n",
        "# Use the findall method to find all such sequences in the string 'Hello there Mr. Ricky' and print the list of matches\n",
        "char_pattern = re.compile('[A-Z][a-z]')\n",
        "found = char_pattern.findall('Hello there Mr. Ricky')\n",
        "print(found)"
      ]
    },
    {
      "cell_type": "markdown",
      "metadata": {
        "id": "rgjybiE0oknI"
      },
      "source": [
        "- **Counting Occurences**: The following cells will allow you to use regular expressions to search for certain values within a range. \\\\\n",
        "\n",
        "  a) `{x}` :  something that occurs {num_of_times}. \\\\\n",
        "  b) `{, x}` : {x, x} - something that occurs between x and x times  \\\\\n",
        "  c) `{?}` : something that occurs 0 or 1 time \\\\\n",
        "  d) `{*}` : * - something that occurs at least 0 times \\\\\n",
        "  e) `{+}`: + - something that occurs at least once \\\\\n",
        "\n"
      ]
    },
    {
      "cell_type": "code",
      "execution_count": null,
      "metadata": {
        "colab": {
          "base_uri": "https://localhost:8080/"
        },
        "id": "QBojwySluSV8",
        "outputId": "faba3de5-30ad-4ac5-f6d1-dfa3de9d334b"
      },
      "outputs": [],
      "source": [
        "# Compile a regular expression pattern `[A-Z][a-z][0-3]{2}` to match any sequence of an uppercase letter, a lowercase letter,\n",
        "# and two digits ranging from 0 to 3. Use the `findall` method to find all such sequences in the string `'Hello Mr. Ri03cky'` and print the list of matches.\n",
        "char_pattern_count = re.compile('[A-Z][a-z][0-3]{2}')\n",
        "found_count = char_pattern_count.findall('Hello Mr. Ri03cky')\n",
        "print(found_count)"
      ]
    },
    {
      "cell_type": "code",
      "execution_count": null,
      "metadata": {
        "colab": {
          "base_uri": "https://localhost:8080/"
        },
        "id": "hbTCAwRruxMr",
        "outputId": "b0357922-8b5d-4c4d-837f-4546edc81f2b"
      },
      "outputs": [],
      "source": [
        "# Compile a regular expression pattern m{1,5} to match any sequence of 1 to 5 consecutive 'm' characters.\n",
        "# Use the findall method to find all such sequences in the string 'This is an example of a regular expression trying to find one m,\n",
        "# more than one mmm or five mmmmms' and print the list of matches.\n",
        "random_pattern = re.compile('m{1,5}')\n",
        "random_statement = random_pattern.findall('This is an example of a regular expression trying to find one m, more than one mmm or five mmmmms')\n",
        "print(random_statement)"
      ]
    },
    {
      "cell_type": "code",
      "execution_count": null,
      "metadata": {
        "colab": {
          "base_uri": "https://localhost:8080/"
        },
        "id": "KxW4BCL8vFWF",
        "outputId": "9778f12c-84e9-40c1-9b34-3a98dc775c43"
      },
      "outputs": [],
      "source": [
        "# Compile a regular expression pattern Mrss? to match the string 'Mrs' optionally followed by an 's'.\n",
        "# Use the findall method to find all such sequences in the string 'Hello M there Mr. Anderson, Mid how is Mrs. Anderson, and Mrss. Anderson?'\n",
        "# and print the list of matches.\n",
        "pattern = re.compile('Mrss?')\n",
        "found_pat = pattern.findall('Hello M there Mr. Ricky, Mid how is Mrs. Ricky, and Mrss. Ricky?')\n",
        "print(found_pat)"
      ]
    },
    {
      "cell_type": "markdown",
      "metadata": {
        "id": "yZ7_cB__v7Yv"
      },
      "source": [
        "- **Escaping Character**:\n",
        "\n",
        "  a) `\\w` :  look for any Unicode character \\\\\n",
        "  b) `\\W` :  look for anything that isnt a Unicode character \\\\\n",
        "\n",
        "  More escaping characters please inspect : https://learn.microsoft.com/en-us/dotnet/standard/base-types/character-escapes-in-regular-expressions"
      ]
    },
    {
      "cell_type": "code",
      "execution_count": null,
      "metadata": {
        "colab": {
          "base_uri": "https://localhost:8080/"
        },
        "id": "RhVXIoqQwkdo",
        "outputId": "1569528b-14fb-49a6-acb5-ab753a34b71f"
      },
      "outputs": [],
      "source": [
        "# Compile two regular expression patterns: [\\w]+ to find sequences of word characters and\n",
        "# [\\W]+ to find sequences of non-word characters. Use the findall method to search for these patterns in the string and print the results.\n",
        "pattern_1 = re.compile('[\\w]+')\n",
        "pattern_2 = re.compile('[\\W]+')\n",
        "\n",
        "found_1 = pattern_1.findall('This is a sentence. With, exclamation mark at the end!')\n",
        "found_2 = pattern_2.findall('This is a sentence. With, exclamation mark at the end!')\n",
        "\n",
        "print(found_1)\n",
        "print(found_2)"
      ]
    }
  ],
  "metadata": {
    "colab": {
      "provenance": []
    },
    "kernelspec": {
      "display_name": "ctip",
      "language": "python",
      "name": "python3"
    },
    "language_info": {
      "codemirror_mode": {
        "name": "ipython",
        "version": 3
      },
      "file_extension": ".py",
      "mimetype": "text/x-python",
      "name": "python",
      "nbconvert_exporter": "python",
      "pygments_lexer": "ipython3",
      "version": "3.13.7"
    }
  },
  "nbformat": 4,
  "nbformat_minor": 0
}

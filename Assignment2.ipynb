{
  "cells": [
    {
      "cell_type": "markdown",
      "metadata": {
        "id": "4sKEV-sUostG"
      },
      "source": [
        "\n",
        "# COS30049 - Workshop Week 4  \n",
        "### Swinburne Univeristy of Technology"
      ]
    },
    {
      "cell_type": "markdown",
      "metadata": {
        "id": "vQ_ybMeNrJ2Q"
      },
      "source": [
        "### Objective\n",
        "\n",
        "By the end of this workshop, participants will have a solid grasp of the Machine Learning Project Lifecycle and the ability to use Python within Visual Studio Code for data processing. The workshop focuses on practical skills, including handling outliers, addressing missing data, and utilizing Python's regular expressions for text data extraction and manipulation.\n",
        "Learning Outcomes:\n",
        "1.\tProficiency in Outlier Management: Learn to identify and manage outliers, ensuring data integrity and accuracy in your analysis.\n",
        "2.\tStrategies for Handling Missing Data: Develop effective techniques for addressing missing data, including imputation and other methods.\n",
        "3.\tMastering Python’s Regular Expressions: Gain expertise in using Python's regular expressions to extract and manipulate text data for analytical purposes.\n",
        "Hands-on Practice:\n",
        "Participants will engage in practical exercises and real-world scenarios to apply these techniques, equipping them to confidently tackle data challenges in their own projects.\n"
      ]
    },
    {
      "cell_type": "markdown",
      "metadata": {},
      "source": [
        "Before you start, make sure you install the related libary in the terminal.\n",
        "1. pip install pandas \n",
        "2. pip install matplotlib\n",
        "3. pip install regex"
      ]
    },
    {
      "cell_type": "markdown",
      "metadata": {
        "id": "GMS_AD96o3xb"
      },
      "source": [
        "### Question 1  Outlier Management (15 mins)\n",
        "Suppose that the data for analysis includes the attribute age. The age values for the data tuples are 13, 15, 16, 16, 19, 20, 20, 21, 22, 22, 25, 25, 25, 25,\n",
        "30, 33, 33, 35, 35, 35, 35, 36, 40, 45, 46, 52, 70.\n",
        "\n",
        "*(1)* What is the first quartile (Q1) and the third quartile (Q3) of the data.\n",
        "\n",
        "*(2)* Show a boxplot of the data\n",
        "\n",
        "*(3)* What are the outliers of these data? if these data is student age of the high school. How do you deal with these data?\n",
        "\n"
      ]
    },
    {
      "cell_type": "code",
      "execution_count": null,
      "metadata": {
        "colab": {
          "base_uri": "https://localhost:8080/"
        },
        "id": "x8byCTMMqGmD",
        "outputId": "ed30d3a1-b01e-4680-ed51-ee11d2adaaf4"
      },
      "outputs": [
        {
          "name": "stdout",
          "output_type": "stream",
          "text": [
            "First Quartile (Q1): 20.5\n",
            "Third Quartile (Q3): 35.0\n"
          ]
        }
      ],
      "source": [
        "import pandas as pd\n",
        "import matplotlib.pyplot as plt\n",
        "\n",
        "# Given data\n",
        "age_data = [13, 15, 16, 16, 19, 20, 20, 21, 22, 22, 25, 25, 25, 25, 30, 33, 33, 35, 35, 35, 35, 36, 40, 45, 46, 52, 70]\n",
        "\n",
        "# Create a pandas DataFrame\n",
        "df = pd.DataFrame(age_data, columns=['age'])\n",
        "\n",
        "# (1) Calculate Q1 and Q3\n",
        "Q1 = df['age'].quantile(0.25)\n",
        "Q3 = df['age'].quantile(0.75)\n",
        "\n",
        "print(f\"First Quartile (Q1): {Q1}\")\n",
        "print(f\"Third Quartile (Q3): {Q3}\")"
      ]
    },
    {
      "cell_type": "code",
      "execution_count": 2,
      "metadata": {
        "colab": {
          "base_uri": "https://localhost:8080/",
          "height": 452
        },
        "id": "_gH8CGEyqbjz",
        "outputId": "c485b245-13e6-4abb-8718-2f4314f90488"
      },
      "outputs": [
        {
          "data": {
            "image/png": "[encoded data removed]",
            "text/plain": [
              "<Figure size 640x480 with 1 Axes>"
            ]
          },
          "metadata": {},
          "output_type": "display_data"
        }
      ],
      "source": [
        "# (2) Show a boxplot of the data\n",
        "plt.boxplot(df['age'])\n",
        "plt.title('Boxplot of Age Data')\n",
        "plt.ylabel('Age')\n",
        "plt.show()"
      ]
    },
    {
      "cell_type": "code",
      "execution_count": 3,
      "metadata": {
        "colab": {
          "base_uri": "https://localhost:8080/"
        },
        "id": "nME89SvTqgys",
        "outputId": "c79d2112-8013-4b4b-969d-936445d17480"
      },
      "outputs": [
        {
          "name": "stdout",
          "output_type": "stream",
          "text": [
            "Outliers: [70]\n"
          ]
        }
      ],
      "source": [
        "# (3) Identify outliers\n",
        "IQR = Q3 - Q1\n",
        "lower_bound = Q1 - 1.5 * IQR\n",
        "upper_bound = Q3 + 1.5 * IQR\n",
        "\n",
        "outliers = df[(df['age'] < lower_bound) | (df['age'] > upper_bound)]\n",
        "print(\"Outliers:\", outliers['age'].tolist())"
      ]
    },
    {
      "cell_type": "code",
      "execution_count": 4,
      "metadata": {
        "colab": {
          "base_uri": "https://localhost:8080/"
        },
        "id": "KSvDZDkbql9D",
        "outputId": "62151040-5686-4114-b105-9361360f8df8"
      },
      "outputs": [
        {
          "name": "stdout",
          "output_type": "stream",
          "text": [
            "Data after handling outliers: [13, 15, 16, 16, 19, 20, 20, 21, 22, 22, 25, 25, 25, 25, 30, 33, 33, 35, 35, 35, 35, 36, 40, 45, 46, 52]\n"
          ]
        }
      ],
      "source": [
        "# (3) If these data are student ages of a high school, deal with outliers\n",
        "if 70 in outliers['age'].tolist():\n",
        "    df = df[df['age'] != 70]\n",
        "\n",
        "print(\"Data after handling outliers:\", df['age'].tolist())"
      ]
    },
    {
      "cell_type": "markdown",
      "metadata": {
        "id": "JmHHRYS4tHnC"
      },
      "source": [
        "### Q2 - Dealing with Missing data -- (15 mins)\n",
        "\n",
        "We have a dataset named `sales_data.csv`. Please complete the following tasks:\n",
        "\n",
        "1. Read the dataset and identify the missing values in the `Sales` and `Profit` columns.\n",
        "2. Use imputation techniques to fill in the missing values in the dataset. Explain which imputation technique is better.\n",
        "3. Discuss the impact of the imputed values on subsequent data analysis and decision-making."
      ]
    },
    {
      "cell_type": "code",
      "execution_count": null,
      "metadata": {
        "colab": {
          "base_uri": "https://localhost:8080/"
        },
        "id": "-6GQq6kWtK_O",
        "outputId": "65e816e8-e5a6-4811-9ba6-59cd80e90be3"
      },
      "outputs": [
        {
          "ename": "FileNotFoundError",
          "evalue": "[Errno 2] No such file or directory: './sales_data.csv'",
          "output_type": "error",
          "traceback": [
            "\u001b[31m---------------------------------------------------------------------------\u001b[39m",
            "\u001b[31mFileNotFoundError\u001b[39m                         Traceback (most recent call last)",
            "\u001b[36mCell\u001b[39m\u001b[36m \u001b[39m\u001b[32mIn[5]\u001b[39m\u001b[32m, line 5\u001b[39m\n\u001b[32m      3\u001b[39m \u001b[38;5;66;03m# Load dataset\u001b[39;00m\n\u001b[32m      4\u001b[39m file_path = \u001b[33m'\u001b[39m\u001b[33m./sales_data.csv\u001b[39m\u001b[33m'\u001b[39m\n\u001b[32m----> \u001b[39m\u001b[32m5\u001b[39m sales_data = \u001b[43mpd\u001b[49m\u001b[43m.\u001b[49m\u001b[43mread_csv\u001b[49m\u001b[43m(\u001b[49m\u001b[43mfile_path\u001b[49m\u001b[43m)\u001b[49m\n\u001b[32m      7\u001b[39m \u001b[38;5;66;03m# identifying the missing data\u001b[39;00m\n\u001b[32m      8\u001b[39m missing_values = sales_data.isnull().sum()\n",
            "\u001b[36mFile \u001b[39m\u001b[32m/opt/anaconda3/envs/ctip/lib/python3.13/site-packages/pandas/io/parsers/readers.py:1026\u001b[39m, in \u001b[36mread_csv\u001b[39m\u001b[34m(filepath_or_buffer, sep, delimiter, header, names, index_col, usecols, dtype, engine, converters, true_values, false_values, skipinitialspace, skiprows, skipfooter, nrows, na_values, keep_default_na, na_filter, verbose, skip_blank_lines, parse_dates, infer_datetime_format, keep_date_col, date_parser, date_format, dayfirst, cache_dates, iterator, chunksize, compression, thousands, decimal, lineterminator, quotechar, quoting, doublequote, escapechar, comment, encoding, encoding_errors, dialect, on_bad_lines, delim_whitespace, low_memory, memory_map, float_precision, storage_options, dtype_backend)\u001b[39m\n\u001b[32m   1013\u001b[39m kwds_defaults = _refine_defaults_read(\n\u001b[32m   1014\u001b[39m     dialect,\n\u001b[32m   1015\u001b[39m     delimiter,\n\u001b[32m   (...)\u001b[39m\u001b[32m   1022\u001b[39m     dtype_backend=dtype_backend,\n\u001b[32m   1023\u001b[39m )\n\u001b[32m   1024\u001b[39m kwds.update(kwds_defaults)\n\u001b[32m-> \u001b[39m\u001b[32m1026\u001b[39m \u001b[38;5;28;01mreturn\u001b[39;00m \u001b[43m_read\u001b[49m\u001b[43m(\u001b[49m\u001b[43mfilepath_or_buffer\u001b[49m\u001b[43m,\u001b[49m\u001b[43m \u001b[49m\u001b[43mkwds\u001b[49m\u001b[43m)\u001b[49m\n",
            "\u001b[36mFile \u001b[39m\u001b[32m/opt/anaconda3/envs/ctip/lib/python3.13/site-packages/pandas/io/parsers/readers.py:620\u001b[39m, in \u001b[36m_read\u001b[39m\u001b[34m(filepath_or_buffer, kwds)\u001b[39m\n\u001b[32m    617\u001b[39m _validate_names(kwds.get(\u001b[33m\"\u001b[39m\u001b[33mnames\u001b[39m\u001b[33m\"\u001b[39m, \u001b[38;5;28;01mNone\u001b[39;00m))\n\u001b[32m    619\u001b[39m \u001b[38;5;66;03m# Create the parser.\u001b[39;00m\n\u001b[32m--> \u001b[39m\u001b[32m620\u001b[39m parser = \u001b[43mTextFileReader\u001b[49m\u001b[43m(\u001b[49m\u001b[43mfilepath_or_buffer\u001b[49m\u001b[43m,\u001b[49m\u001b[43m \u001b[49m\u001b[43m*\u001b[49m\u001b[43m*\u001b[49m\u001b[43mkwds\u001b[49m\u001b[43m)\u001b[49m\n\u001b[32m    622\u001b[39m \u001b[38;5;28;01mif\u001b[39;00m chunksize \u001b[38;5;129;01mor\u001b[39;00m iterator:\n\u001b[32m    623\u001b[39m     \u001b[38;5;28;01mreturn\u001b[39;00m parser\n",
            "\u001b[36mFile \u001b[39m\u001b[32m/opt/anaconda3/envs/ctip/lib/python3.13/site-packages/pandas/io/parsers/readers.py:1620\u001b[39m, in \u001b[36mTextFileReader.__init__\u001b[39m\u001b[34m(self, f, engine, **kwds)\u001b[39m\n\u001b[32m   1617\u001b[39m     \u001b[38;5;28mself\u001b[39m.options[\u001b[33m\"\u001b[39m\u001b[33mhas_index_names\u001b[39m\u001b[33m\"\u001b[39m] = kwds[\u001b[33m\"\u001b[39m\u001b[33mhas_index_names\u001b[39m\u001b[33m\"\u001b[39m]\n\u001b[32m   1619\u001b[39m \u001b[38;5;28mself\u001b[39m.handles: IOHandles | \u001b[38;5;28;01mNone\u001b[39;00m = \u001b[38;5;28;01mNone\u001b[39;00m\n\u001b[32m-> \u001b[39m\u001b[32m1620\u001b[39m \u001b[38;5;28mself\u001b[39m._engine = \u001b[38;5;28;43mself\u001b[39;49m\u001b[43m.\u001b[49m\u001b[43m_make_engine\u001b[49m\u001b[43m(\u001b[49m\u001b[43mf\u001b[49m\u001b[43m,\u001b[49m\u001b[43m \u001b[49m\u001b[38;5;28;43mself\u001b[39;49m\u001b[43m.\u001b[49m\u001b[43mengine\u001b[49m\u001b[43m)\u001b[49m\n",
            "\u001b[36mFile \u001b[39m\u001b[32m/opt/anaconda3/envs/ctip/lib/python3.13/site-packages/pandas/io/parsers/readers.py:1880\u001b[39m, in \u001b[36mTextFileReader._make_engine\u001b[39m\u001b[34m(self, f, engine)\u001b[39m\n\u001b[32m   1878\u001b[39m     \u001b[38;5;28;01mif\u001b[39;00m \u001b[33m\"\u001b[39m\u001b[33mb\u001b[39m\u001b[33m\"\u001b[39m \u001b[38;5;129;01mnot\u001b[39;00m \u001b[38;5;129;01min\u001b[39;00m mode:\n\u001b[32m   1879\u001b[39m         mode += \u001b[33m\"\u001b[39m\u001b[33mb\u001b[39m\u001b[33m\"\u001b[39m\n\u001b[32m-> \u001b[39m\u001b[32m1880\u001b[39m \u001b[38;5;28mself\u001b[39m.handles = \u001b[43mget_handle\u001b[49m\u001b[43m(\u001b[49m\n\u001b[32m   1881\u001b[39m \u001b[43m    \u001b[49m\u001b[43mf\u001b[49m\u001b[43m,\u001b[49m\n\u001b[32m   1882\u001b[39m \u001b[43m    \u001b[49m\u001b[43mmode\u001b[49m\u001b[43m,\u001b[49m\n\u001b[32m   1883\u001b[39m \u001b[43m    \u001b[49m\u001b[43mencoding\u001b[49m\u001b[43m=\u001b[49m\u001b[38;5;28;43mself\u001b[39;49m\u001b[43m.\u001b[49m\u001b[43moptions\u001b[49m\u001b[43m.\u001b[49m\u001b[43mget\u001b[49m\u001b[43m(\u001b[49m\u001b[33;43m\"\u001b[39;49m\u001b[33;43mencoding\u001b[39;49m\u001b[33;43m\"\u001b[39;49m\u001b[43m,\u001b[49m\u001b[43m \u001b[49m\u001b[38;5;28;43;01mNone\u001b[39;49;00m\u001b[43m)\u001b[49m\u001b[43m,\u001b[49m\n\u001b[32m   1884\u001b[39m \u001b[43m    \u001b[49m\u001b[43mcompression\u001b[49m\u001b[43m=\u001b[49m\u001b[38;5;28;43mself\u001b[39;49m\u001b[43m.\u001b[49m\u001b[43moptions\u001b[49m\u001b[43m.\u001b[49m\u001b[43mget\u001b[49m\u001b[43m(\u001b[49m\u001b[33;43m\"\u001b[39;49m\u001b[33;43mcompression\u001b[39;49m\u001b[33;43m\"\u001b[39;49m\u001b[43m,\u001b[49m\u001b[43m \u001b[49m\u001b[38;5;28;43;01mNone\u001b[39;49;00m\u001b[43m)\u001b[49m\u001b[43m,\u001b[49m\n\u001b[32m   1885\u001b[39m \u001b[43m    \u001b[49m\u001b[43mmemory_map\u001b[49m\u001b[43m=\u001b[49m\u001b[38;5;28;43mself\u001b[39;49m\u001b[43m.\u001b[49m\u001b[43moptions\u001b[49m\u001b[43m.\u001b[49m\u001b[43mget\u001b[49m\u001b[43m(\u001b[49m\u001b[33;43m\"\u001b[39;49m\u001b[33;43mmemory_map\u001b[39;49m\u001b[33;43m\"\u001b[39;49m\u001b[43m,\u001b[49m\u001b[43m \u001b[49m\u001b[38;5;28;43;01mFalse\u001b[39;49;00m\u001b[43m)\u001b[49m\u001b[43m,\u001b[49m\n\u001b[32m   1886\u001b[39m \u001b[43m    \u001b[49m\u001b[43mis_text\u001b[49m\u001b[43m=\u001b[49m\u001b[43mis_text\u001b[49m\u001b[43m,\u001b[49m\n\u001b[32m   1887\u001b[39m \u001b[43m    \u001b[49m\u001b[43merrors\u001b[49m\u001b[43m=\u001b[49m\u001b[38;5;28;43mself\u001b[39;49m\u001b[43m.\u001b[49m\u001b[43moptions\u001b[49m\u001b[43m.\u001b[49m\u001b[43mget\u001b[49m\u001b[43m(\u001b[49m\u001b[33;43m\"\u001b[39;49m\u001b[33;43mencoding_errors\u001b[39;49m\u001b[33;43m\"\u001b[39;49m\u001b[43m,\u001b[49m\u001b[43m \u001b[49m\u001b[33;43m\"\u001b[39;49m\u001b[33;43mstrict\u001b[39;49m\u001b[33;43m\"\u001b[39;49m\u001b[43m)\u001b[49m\u001b[43m,\u001b[49m\n\u001b[32m   1888\u001b[39m \u001b[43m    \u001b[49m\u001b[43mstorage_options\u001b[49m\u001b[43m=\u001b[49m\u001b[38;5;28;43mself\u001b[39;49m\u001b[43m.\u001b[49m\u001b[43moptions\u001b[49m\u001b[43m.\u001b[49m\u001b[43mget\u001b[49m\u001b[43m(\u001b[49m\u001b[33;43m\"\u001b[39;49m\u001b[33;43mstorage_options\u001b[39;49m\u001b[33;43m\"\u001b[39;49m\u001b[43m,\u001b[49m\u001b[43m \u001b[49m\u001b[38;5;28;43;01mNone\u001b[39;49;00m\u001b[43m)\u001b[49m\u001b[43m,\u001b[49m\n\u001b[32m   1889\u001b[39m \u001b[43m\u001b[49m\u001b[43m)\u001b[49m\n\u001b[32m   1890\u001b[39m \u001b[38;5;28;01massert\u001b[39;00m \u001b[38;5;28mself\u001b[39m.handles \u001b[38;5;129;01mis\u001b[39;00m \u001b[38;5;129;01mnot\u001b[39;00m \u001b[38;5;28;01mNone\u001b[39;00m\n\u001b[32m   1891\u001b[39m f = \u001b[38;5;28mself\u001b[39m.handles.handle\n",
            "\u001b[36mFile \u001b[39m\u001b[32m/opt/anaconda3/envs/ctip/lib/python3.13/site-packages/pandas/io/common.py:873\u001b[39m, in \u001b[36mget_handle\u001b[39m\u001b[34m(path_or_buf, mode, encoding, compression, memory_map, is_text, errors, storage_options)\u001b[39m\n\u001b[32m    868\u001b[39m \u001b[38;5;28;01melif\u001b[39;00m \u001b[38;5;28misinstance\u001b[39m(handle, \u001b[38;5;28mstr\u001b[39m):\n\u001b[32m    869\u001b[39m     \u001b[38;5;66;03m# Check whether the filename is to be opened in binary mode.\u001b[39;00m\n\u001b[32m    870\u001b[39m     \u001b[38;5;66;03m# Binary mode does not support 'encoding' and 'newline'.\u001b[39;00m\n\u001b[32m    871\u001b[39m     \u001b[38;5;28;01mif\u001b[39;00m ioargs.encoding \u001b[38;5;129;01mand\u001b[39;00m \u001b[33m\"\u001b[39m\u001b[33mb\u001b[39m\u001b[33m\"\u001b[39m \u001b[38;5;129;01mnot\u001b[39;00m \u001b[38;5;129;01min\u001b[39;00m ioargs.mode:\n\u001b[32m    872\u001b[39m         \u001b[38;5;66;03m# Encoding\u001b[39;00m\n\u001b[32m--> \u001b[39m\u001b[32m873\u001b[39m         handle = \u001b[38;5;28;43mopen\u001b[39;49m\u001b[43m(\u001b[49m\n\u001b[32m    874\u001b[39m \u001b[43m            \u001b[49m\u001b[43mhandle\u001b[49m\u001b[43m,\u001b[49m\n\u001b[32m    875\u001b[39m \u001b[43m            \u001b[49m\u001b[43mioargs\u001b[49m\u001b[43m.\u001b[49m\u001b[43mmode\u001b[49m\u001b[43m,\u001b[49m\n\u001b[32m    876\u001b[39m \u001b[43m            \u001b[49m\u001b[43mencoding\u001b[49m\u001b[43m=\u001b[49m\u001b[43mioargs\u001b[49m\u001b[43m.\u001b[49m\u001b[43mencoding\u001b[49m\u001b[43m,\u001b[49m\n\u001b[32m    877\u001b[39m \u001b[43m            \u001b[49m\u001b[43merrors\u001b[49m\u001b[43m=\u001b[49m\u001b[43merrors\u001b[49m\u001b[43m,\u001b[49m\n\u001b[32m    878\u001b[39m \u001b[43m            \u001b[49m\u001b[43mnewline\u001b[49m\u001b[43m=\u001b[49m\u001b[33;43m\"\u001b[39;49m\u001b[33;43m\"\u001b[39;49m\u001b[43m,\u001b[49m\n\u001b[32m    879\u001b[39m \u001b[43m        \u001b[49m\u001b[43m)\u001b[49m\n\u001b[32m    880\u001b[39m     \u001b[38;5;28;01melse\u001b[39;00m:\n\u001b[32m    881\u001b[39m         \u001b[38;5;66;03m# Binary mode\u001b[39;00m\n\u001b[32m    882\u001b[39m         handle = \u001b[38;5;28mopen\u001b[39m(handle, ioargs.mode)\n",
            "\u001b[31mFileNotFoundError\u001b[39m: [Errno 2] No such file or directory: './sales_data.csv'"
          ]
        }
      ],
      "source": [
        "import pandas as pd\n",
        "\n",
        "# Load dataset\n",
        "file_path = 'sales_data.csv'\n",
        "sales_data = pd.read_csv(file_path)\n",
        "\n",
        "# identifying the missing data\n",
        "missing_values = sales_data.isnull().sum()\n",
        "\n",
        "print(missing_values)\n"
      ]
    },
    {
      "cell_type": "code",
      "execution_count": null,
      "metadata": {
        "id": "XOd9UJ83uU22"
      },
      "outputs": [],
      "source": [
        "# mean imputation\n",
        "sales_data_mean_imputed = sales_data.copy()\n",
        "sales_data_mean_imputed['Sales'].fillna(sales_data['Sales'].mean(), inplace=True)\n",
        "sales_data_mean_imputed['Profit'].fillna(sales_data['Profit'].mean(), inplace=True)"
      ]
    },
    {
      "cell_type": "code",
      "execution_count": null,
      "metadata": {
        "colab": {
          "base_uri": "https://localhost:8080/",
          "height": 425
        },
        "id": "HRoR5QZcuo9s",
        "outputId": "898e988b-58d2-44a6-802f-e5a28cf7b967"
      },
      "outputs": [],
      "source": [
        "sales_data_mean_imputed"
      ]
    },
    {
      "cell_type": "code",
      "execution_count": null,
      "metadata": {
        "id": "YkHfICb4uq7w"
      },
      "outputs": [],
      "source": [
        "# Mediate Imputation\n",
        "sales_data_median_imputed = sales_data.copy()\n",
        "sales_data_median_imputed['Sales'].fillna(sales_data['Sales'].median(), inplace=True)\n",
        "sales_data_median_imputed['Profit'].fillna(sales_data['Profit'].median(), inplace=True)\n"
      ]
    },
    {
      "cell_type": "code",
      "execution_count": null,
      "metadata": {
        "colab": {
          "base_uri": "https://localhost:8080/",
          "height": 425
        },
        "id": "NkZD3trcuwKx",
        "outputId": "f74bdb12-6138-403e-ec8e-0642d85473e7"
      },
      "outputs": [],
      "source": [
        "sales_data_median_imputed"
      ]
    },
    {
      "cell_type": "markdown",
      "metadata": {
        "id": "9eIkxW6hu7Mv"
      },
      "source": [
        "Explanation of Which Imputation Technique is Better:\n",
        "\n",
        "- **Mean Imputation**: This technique is suitable when the data distribution is fairly uniform and there are no extreme values. However, if there are many extreme values, the mean can be affected by these outliers, leading to imputed values that may deviate from the actual data.\n",
        "\n",
        "- **Median Imputation**: This technique is more appropriate when the data contains extreme values, as the median is not affected by outliers and can provide more stable imputed values."
      ]
    },
    {
      "cell_type": "markdown",
      "metadata": {
        "id": "Wd-KHrIwwqL8"
      },
      "source": [
        "### Q3 - Regular Expression - (40 mins)\n"
      ]
    },
    {
      "cell_type": "markdown",
      "metadata": {
        "id": "lrbX4eyosxVm"
      },
      "source": [
        "1. Tasks today:\n",
        "\n",
        "- **Importing Regular Expression Package**:\n",
        "  `import re`"
      ]
    },
    {
      "cell_type": "code",
      "execution_count": null,
      "metadata": {
        "id": "KU_bg_acs0-G"
      },
      "outputs": [],
      "source": [
        "# import re\n",
        "import re"
      ]
    },
    {
      "cell_type": "markdown",
      "metadata": {
        "id": "mBZwUTFcs4hT"
      },
      "source": [
        "- **Using Regular Expressions**: Regular expressions give us the ability to search for patterns within text, strings, files, etc. They serve several uses, such as; security measures, searching, filtering, pattern recognition, and more... \\\\\n",
        "  a) `re.compile()` : using compile, pre determines the string to be used in regular expression methods. \\\\\n",
        "  b) `re.match()` :  This method attempts to match a pattern at the beginning of the string. \\\\\n",
        "  c) `re.findall` : This method returns a list of all non-overlapping matches of a pattern in the string, as a list of strings. \\\\\n",
        "  d) `re.search()` : This method scans through the string, looking for any location where the pattern matches.  \\\\"
      ]
    },
    {
      "cell_type": "code",
      "execution_count": null,
      "metadata": {
        "colab": {
          "base_uri": "https://localhost:8080/"
        },
        "id": "Hp8tvzgAs-mn",
        "outputId": "81884bc1-795a-4b48-a986-43fe1bdab802"
      },
      "outputs": [],
      "source": [
        "# add pattern abcd\n",
        "pattern = re.compile('abcd')\n",
        "print(pattern)"
      ]
    },
    {
      "cell_type": "markdown",
      "metadata": {
        "id": "NsN3fNeHtFFZ"
      },
      "source": [
        "- **Sets**: The following cells will allow you to use regular expressions to search for certain values within a range. \\\\\n",
        "  a) Integer Ranges: For example, [0-7] \\\\\n",
        "  b) Character Ranges: For exampe, [A-Z][a-z] \\\\"
      ]
    },
    {
      "cell_type": "code",
      "execution_count": null,
      "metadata": {
        "colab": {
          "base_uri": "https://localhost:8080/"
        },
        "id": "zDkaYEm4tISC",
        "outputId": "be327098-a458-46a9-95f6-cbd325884ebc"
      },
      "outputs": [],
      "source": [
        "# use match() to match abcd123\n",
        "match = pattern.match('abcd123')\n",
        "print(match)"
      ]
    },
    {
      "cell_type": "code",
      "execution_count": null,
      "metadata": {
        "colab": {
          "base_uri": "https://localhost:8080/"
        },
        "id": "XbdwMkq6tWA_",
        "outputId": "1c0c701f-c8ba-4888-da2e-921c81e82b56"
      },
      "outputs": [],
      "source": [
        "# use this pattern to find '123abcd abcd123 abcd abcabc acb'\n",
        "finders = pattern.findall('123abcd abcd123 abcd abcabc acb')\n",
        "print(finders)"
      ]
    },
    {
      "cell_type": "code",
      "execution_count": null,
      "metadata": {
        "colab": {
          "base_uri": "https://localhost:8080/"
        },
        "id": "HrrCGW06tmGg",
        "outputId": "e9f0149d-aacc-48c5-d7e7-69061b0bb943"
      },
      "outputs": [],
      "source": [
        "# explain the code blow\n",
        "random_string = '123 123 234 abcd abc'\n",
        "\n",
        "search = pattern.search(random_string)\n",
        "print(search)\n",
        "span = search.span()\n",
        "print(span)\n",
        "print(random_string[span[0] : span[1]])"
      ]
    },
    {
      "cell_type": "code",
      "execution_count": null,
      "metadata": {
        "colab": {
          "base_uri": "https://localhost:8080/"
        },
        "id": "79HQHlQHudl6",
        "outputId": "eb3c555f-b68b-40d4-915d-8b254cfea61a"
      },
      "outputs": [],
      "source": [
        "# Compile a regular expression pattern [0-7][7-9][0-3] and search for this pattern in the string '67383'.\n",
        "# If a match is found, print the match object and the character at the start position of the match.\n",
        "pattern_int = re.compile('[0-7][7-9][0-3]')\n",
        "\n",
        "random_numbers = pattern_int.search('67383')\n",
        "print(random_numbers)\n",
        "span = random_numbers.span()\n",
        "print(random_numbers[span[0]])"
      ]
    },
    {
      "cell_type": "code",
      "execution_count": null,
      "metadata": {
        "colab": {
          "base_uri": "https://localhost:8080/"
        },
        "id": "sj7KTI1jufeN",
        "outputId": "67fee91c-17dd-40b5-e613-558777236e74"
      },
      "outputs": [],
      "source": [
        "# Compile a regular expression pattern [A-Z][a-z] to match any sequence of an uppercase letter followed by a lowercase letter.\n",
        "# Use the findall method to find all such sequences in the string 'Hello there Mr. Ricky' and print the list of matches\n",
        "char_pattern = re.compile('[A-Z][a-z]')\n",
        "found = char_pattern.findall('Hello there Mr. Ricky')\n",
        "print(found)"
      ]
    },
    {
      "cell_type": "markdown",
      "metadata": {
        "id": "rgjybiE0oknI"
      },
      "source": [
        "- **Counting Occurences**: The following cells will allow you to use regular expressions to search for certain values within a range. \\\\\n",
        "\n",
        "  a) `{x}` :  something that occurs {num_of_times}. \\\\\n",
        "  b) `{, x}` : {x, x} - something that occurs between x and x times  \\\\\n",
        "  c) `{?}` : something that occurs 0 or 1 time \\\\\n",
        "  d) `{*}` : * - something that occurs at least 0 times \\\\\n",
        "  e) `{+}`: + - something that occurs at least once \\\\\n",
        "\n"
      ]
    },
    {
      "cell_type": "code",
      "execution_count": null,
      "metadata": {
        "colab": {
          "base_uri": "https://localhost:8080/"
        },
        "id": "QBojwySluSV8",
        "outputId": "faba3de5-30ad-4ac5-f6d1-dfa3de9d334b"
      },
      "outputs": [],
      "source": [
        "# Compile a regular expression pattern `[A-Z][a-z][0-3]{2}` to match any sequence of an uppercase letter, a lowercase letter,\n",
        "# and two digits ranging from 0 to 3. Use the `findall` method to find all such sequences in the string `'Hello Mr. Ri03cky'` and print the list of matches.\n",
        "char_pattern_count = re.compile('[A-Z][a-z][0-3]{2}')\n",
        "found_count = char_pattern_count.findall('Hello Mr. Ri03cky')\n",
        "print(found_count)"
      ]
    },
    {
      "cell_type": "code",
      "execution_count": null,
      "metadata": {
        "colab": {
          "base_uri": "https://localhost:8080/"
        },
        "id": "hbTCAwRruxMr",
        "outputId": "b0357922-8b5d-4c4d-837f-4546edc81f2b"
      },
      "outputs": [],
      "source": [
        "# Compile a regular expression pattern m{1,5} to match any sequence of 1 to 5 consecutive 'm' characters.\n",
        "# Use the findall method to find all such sequences in the string 'This is an example of a regular expression trying to find one m,\n",
        "# more than one mmm or five mmmmms' and print the list of matches.\n",
        "random_pattern = re.compile('m{1,5}')\n",
        "random_statement = random_pattern.findall('This is an example of a regular expression trying to find one m, more than one mmm or five mmmmms')\n",
        "print(random_statement)"
      ]
    },
    {
      "cell_type": "code",
      "execution_count": null,
      "metadata": {
        "colab": {
          "base_uri": "https://localhost:8080/"
        },
        "id": "KxW4BCL8vFWF",
        "outputId": "9778f12c-84e9-40c1-9b34-3a98dc775c43"
      },
      "outputs": [],
      "source": [
        "# Compile a regular expression pattern Mrss? to match the string 'Mrs' optionally followed by an 's'.\n",
        "# Use the findall method to find all such sequences in the string 'Hello M there Mr. Anderson, Mid how is Mrs. Anderson, and Mrss. Anderson?'\n",
        "# and print the list of matches.\n",
        "pattern = re.compile('Mrss?')\n",
        "found_pat = pattern.findall('Hello M there Mr. Ricky, Mid how is Mrs. Ricky, and Mrss. Ricky?')\n",
        "print(found_pat)"
      ]
    },
    {
      "cell_type": "markdown",
      "metadata": {
        "id": "yZ7_cB__v7Yv"
      },
      "source": [
        "- **Escaping Character**:\n",
        "\n",
        "  a) `\\w` :  look for any Unicode character \\\\\n",
        "  b) `\\W` :  look for anything that isnt a Unicode character \\\\\n",
        "\n",
        "  More escaping characters please inspect : https://learn.microsoft.com/en-us/dotnet/standard/base-types/character-escapes-in-regular-expressions"
      ]
    },
    {
      "cell_type": "code",
      "execution_count": null,
      "metadata": {
        "colab": {
          "base_uri": "https://localhost:8080/"
        },
        "id": "RhVXIoqQwkdo",
        "outputId": "1569528b-14fb-49a6-acb5-ab753a34b71f"
      },
      "outputs": [],
      "source": [
        "# Compile two regular expression patterns: [\\w]+ to find sequences of word characters and\n",
        "# [\\W]+ to find sequences of non-word characters. Use the findall method to search for these patterns in the string and print the results.\n",
        "pattern_1 = re.compile('[\\w]+')\n",
        "pattern_2 = re.compile('[\\W]+')\n",
        "\n",
        "found_1 = pattern_1.findall('This is a sentence. With, exclamation mark at the end!')\n",
        "found_2 = pattern_2.findall('This is a sentence. With, exclamation mark at the end!')\n",
        "\n",
        "print(found_1)\n",
        "print(found_2)"
      ]
    }
  ],
  "metadata": {
    "colab": {
      "provenance": []
    },
    "kernelspec": {
      "display_name": "ctip",
      "language": "python",
      "name": "python3"
    },
    "language_info": {
      "codemirror_mode": {
        "name": "ipython",
        "version": 3
      },
      "file_extension": ".py",
      "mimetype": "text/x-python",
      "name": "python",
      "nbconvert_exporter": "python",
      "pygments_lexer": "ipython3",
      "version": "3.13.7"
    }
  },
  "nbformat": 4,
  "nbformat_minor": 0
}
